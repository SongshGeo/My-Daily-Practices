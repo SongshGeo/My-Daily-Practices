{
 "cells": [
  {
   "cell_type": "markdown",
   "id": "62c66281",
   "metadata": {},
   "source": [
    "# 为什么生态治理是困难的？"
   ]
  },
  {
   "cell_type": "markdown",
   "id": "46735135",
   "metadata": {},
   "source": [
    "## 计算个人收益"
   ]
  },
  {
   "cell_type": "code",
   "execution_count": 1,
   "id": "a526d78e",
   "metadata": {},
   "outputs": [],
   "source": [
    "import numpy as np\n",
    "from matplotlib import pyplot as plt\n",
    "%matplotlib inline"
   ]
  },
  {
   "cell_type": "code",
   "execution_count": 2,
   "id": "3dc36a8d",
   "metadata": {},
   "outputs": [
    {
     "name": "stdout",
     "output_type": "stream",
     "text": [
      "第1用户的收益是：6.0元。\n",
      "第2用户的收益是：0.0元。\n",
      "第3用户的收益是：4.8元。\n",
      "第4用户的收益是：0.0元。\n",
      "第5用户的收益是：8.4元。\n",
      "第6用户的收益是：3.3元。\n",
      "第7用户的收益是：4.8元。\n",
      "第8用户的收益是：2.2元。\n",
      "第9用户的收益是：9.8元。\n",
      "第10用户的收益是：0.0元。\n",
      "\n",
      "所有人一共收益39.300000000000004元。\n",
      "平均每个用户给自己留了4元。\n"
     ]
    }
   ],
   "source": [
    "## 计算个人的资本\n",
    "capital_levels = np.array([4, 6, 8])\n",
    "interests = np.array([0.1, 0.2, 0.4, 0.6])\n",
    "\n",
    "def personality(captial):\n",
    "    # 如果留给自己的钱越多，利息水平也就越高\n",
    "    level = sum(capital >= capital_levels)\n",
    "    interest = interests[level]  # 利息\n",
    "    ## 根据留下的资本来计算最后的收益\n",
    "    return round(captial * (1 + interest), 2)\n",
    "\n",
    "## 需要改参数，每个参与者都留给自己多少\n",
    "personal_capitals = np.array([5, 0, 4, 0, 6, 3, 4, 2, 7, 0])\n",
    "index = 0\n",
    "all_profits = []\n",
    "for capital in personal_capitals:\n",
    "    index += 1\n",
    "    print(\"第{}用户的收益是：{}元。\".format(index, personality(capital)))\n",
    "    all_profits.append(personality(capital))\n",
    "print(\"\\n所有人一共收益{}元。\".format(sum(all_profits)))\n",
    "print(\"平均每个用户给自己留了{}元。\".format(round(sum(all_profits)/len(all_profits)), 1))"
   ]
  },
  {
   "cell_type": "markdown",
   "id": "c6853075",
   "metadata": {},
   "source": [
    "## 计算集体收益"
   ]
  },
  {
   "cell_type": "code",
   "execution_count": 3,
   "id": "a6031f6f",
   "metadata": {},
   "outputs": [
    {
     "name": "stdout",
     "output_type": "stream",
     "text": [
      "为共同利益投入了69元，由10人享用共同利益，平均每个人投入7元。\n",
      "这个水平的投入，使得集体利益获得了1.5水平收益，平均每个人获得收益10.4元。\n"
     ]
    }
   ],
   "source": [
    "# 计算集体的资本\n",
    "investment = np.array([1, 3, 5, 7, 9])\n",
    "profits = np.array([0.6, 0.8, 1.0, 1.5, 1.6, 1.6])\n",
    "\n",
    "def common(people, collection): \n",
    "    alpha = sum(collection >= people * investment)  # 满足多少层\n",
    "    profit = profits[alpha] # 利益系数\n",
    "    if profit <= 1:\n",
    "        profit = 1\n",
    "    average = round(profit * collection / people, 1)  # 每个人收益\n",
    "    return profit, average\n",
    "\n",
    "\n",
    "### 这里需要根据人数和总金额修改参数\n",
    "group = 10\n",
    "collection = 69\n",
    "profit, average = common(group, collection)\n",
    "print(\"为共同利益投入了{}元，由{}人享用共同利益，平均每个人投入{}元。\".format(collection, group, round(collection/group), 1))\n",
    "print(\"这个水平的投入，使得集体利益获得了{}水平收益，平均每个人获得收益{}元。\".format(profit, average))"
   ]
  },
  {
   "cell_type": "markdown",
   "id": "444066be",
   "metadata": {},
   "source": [
    "## 整个群体总利益如何？"
   ]
  },
  {
   "cell_type": "code",
   "execution_count": 4,
   "id": "754a9544",
   "metadata": {},
   "outputs": [
    {
     "name": "stdout",
     "output_type": "stream",
     "text": [
      "整个团队总收益是：\n"
     ]
    },
    {
     "data": {
      "text/plain": [
       "143.3"
      ]
     },
     "execution_count": 4,
     "metadata": {},
     "output_type": "execute_result"
    }
   ],
   "source": [
    "print(\"整个团队总收益是：\")\n",
    "round(average * group + sum(all_profits), 2)"
   ]
  },
  {
   "cell_type": "markdown",
   "id": "2b42043b",
   "metadata": {},
   "source": [
    "# 最优情况如何？"
   ]
  },
  {
   "cell_type": "code",
   "execution_count": 5,
   "id": "7efc45fb",
   "metadata": {},
   "outputs": [
    {
     "data": {
      "image/png": "[encoded data removed]",
      "text/plain": [
       "<Figure size 432x288 with 1 Axes>"
      ]
     },
     "metadata": {
      "needs_background": "light"
     },
     "output_type": "display_data"
    }
   ],
   "source": [
    "x = np.arange(11)\n",
    "\n",
    "group = 10  # 多少个人参加游戏？\n",
    "\n",
    "personal_interests = np.array([personality(i) for i in x])\n",
    "common_interests = np.array([common(group, group*i)[1] for i in 10-x])\n",
    "personal_interests\n",
    "common_interests\n",
    "all_interests = personal_interests + common_interests\n",
    "\n",
    "plt.plot(personal_interests, label=\"Personal\")\n",
    "plt.plot(common_interests, color=\"green\", label=\"Common\")\n",
    "plt.plot(all_interests, color='black', label=\"ALL\")\n",
    "plt.legend()\n",
    "plt.show();"
   ]
  }
 ],
 "metadata": {
  "kernelspec": {
   "display_name": "Python 3",
   "language": "python",
   "name": "python3"
  },
  "language_info": {
   "codemirror_mode": {
    "name": "ipython",
    "version": 3
   },
   "file_extension": ".py",
   "mimetype": "text/x-python",
   "name": "python",
   "nbconvert_exporter": "python",
   "pygments_lexer": "ipython3",
   "version": "3.8.8"
  }
 },
 "nbformat": 4,
 "nbformat_minor": 5
}
