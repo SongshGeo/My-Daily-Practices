{
 "cells": [
  {
   "cell_type": "markdown",
   "metadata": {},
   "source": [
    "# Regime Shift"
   ]
  },
  {
   "cell_type": "code",
   "execution_count": 1,
   "metadata": {},
   "outputs": [],
   "source": [
    "import pandas as pd\n",
    "import numpy as np\n",
    "import seaborn as sns\n",
    "from matplotlib import pyplot as plt\n",
    "\n",
    "%matplotlib inline\n",
    "%config InlineBackend.figure_format = 'retina'\n",
    "plt.rcParams['axes.facecolor'] = 'white'\n",
    "\n",
    "# 自定义配色\n",
    "nature_colors = {\n",
    "    'NS': \"#c83c1c\",\n",
    "    'Nature': \"#29303c\",\n",
    "    'NCC': \"#0889a6\",\n",
    "    'NC': \"#f1801f\",\n",
    "    'NG': \"#006c43\",\n",
    "    'NHB': \"#1951A0\",\n",
    "    'NEE': \"#C7D530\"\n",
    "}"
   ]
  },
  {
   "cell_type": "code",
   "execution_count": 2,
   "metadata": {},
   "outputs": [
    {
     "data": {
      "text/html": [
       "<div>\n",
       "<style scoped>\n",
       "    .dataframe tbody tr th:only-of-type {\n",
       "        vertical-align: middle;\n",
       "    }\n",
       "\n",
       "    .dataframe tbody tr th {\n",
       "        vertical-align: top;\n",
       "    }\n",
       "\n",
       "    .dataframe thead th {\n",
       "        text-align: right;\n",
       "    }\n",
       "</style>\n",
       "<table border=\"1\" class=\"dataframe\">\n",
       "  <thead>\n",
       "    <tr style=\"text-align: right;\">\n",
       "      <th>RS case number</th>\n",
       "      <th>Region</th>\n",
       "      <th>spatial scale (km2)</th>\n",
       "      <th>Study Peiord start(y-1)</th>\n",
       "      <th>Study Peiord end(y-1)</th>\n",
       "      <th>Time resolution</th>\n",
       "      <th>Evidence</th>\n",
       "      <th>Shift Start year</th>\n",
       "      <th>Shift End Year</th>\n",
       "      <th>System</th>\n",
       "      <th>Regime before</th>\n",
       "      <th>...</th>\n",
       "      <th>analyze Methods</th>\n",
       "      <th>Standard</th>\n",
       "      <th>how to recognize (breakpoint/period)</th>\n",
       "      <th>Patterns</th>\n",
       "      <th>reliability</th>\n",
       "      <th>others</th>\n",
       "      <th>Reference_1</th>\n",
       "      <th>Reference_2</th>\n",
       "      <th>NaN</th>\n",
       "      <th>NaN</th>\n",
       "    </tr>\n",
       "  </thead>\n",
       "  <tbody>\n",
       "    <tr>\n",
       "      <th>1</th>\n",
       "      <td>Loess Plateau</td>\n",
       "      <td>NaN</td>\n",
       "      <td>1000</td>\n",
       "      <td>2020</td>\n",
       "      <td>100</td>\n",
       "      <td>NaN</td>\n",
       "      <td>1750</td>\n",
       "      <td>1750</td>\n",
       "      <td>human-land</td>\n",
       "      <td>fast expansion of cultivation</td>\n",
       "      <td>...</td>\n",
       "      <td>Correlation coefficient</td>\n",
       "      <td>Sig. change</td>\n",
       "      <td>NaN</td>\n",
       "      <td>NaN</td>\n",
       "      <td>NaN</td>\n",
       "      <td>NaN</td>\n",
       "      <td>Wu et al., 2020</td>\n",
       "      <td>NaN</td>\n",
       "      <td>NaN</td>\n",
       "      <td>NaN</td>\n",
       "    </tr>\n",
       "    <tr>\n",
       "      <th>2</th>\n",
       "      <td>Loess Plateau</td>\n",
       "      <td>NaN</td>\n",
       "      <td>1000</td>\n",
       "      <td>2020</td>\n",
       "      <td>10</td>\n",
       "      <td>NaN</td>\n",
       "      <td>1950</td>\n",
       "      <td>1950</td>\n",
       "      <td>human-land</td>\n",
       "      <td>slow expansion of cultivation</td>\n",
       "      <td>...</td>\n",
       "      <td>Correlation coefficient</td>\n",
       "      <td>Sig. change</td>\n",
       "      <td>NaN</td>\n",
       "      <td>NaN</td>\n",
       "      <td>NaN</td>\n",
       "      <td>NaN</td>\n",
       "      <td>Wu et al., 2020</td>\n",
       "      <td>NaN</td>\n",
       "      <td>NaN</td>\n",
       "      <td>NaN</td>\n",
       "    </tr>\n",
       "    <tr>\n",
       "      <th>3</th>\n",
       "      <td>Loess Plateau</td>\n",
       "      <td>NaN</td>\n",
       "      <td>1000</td>\n",
       "      <td>2020</td>\n",
       "      <td>5</td>\n",
       "      <td>NaN</td>\n",
       "      <td>1980</td>\n",
       "      <td>1980</td>\n",
       "      <td>human-land</td>\n",
       "      <td>land engineering for higher production</td>\n",
       "      <td>...</td>\n",
       "      <td>Correlation coefficient</td>\n",
       "      <td>Sig. change</td>\n",
       "      <td>NaN</td>\n",
       "      <td>NaN</td>\n",
       "      <td>NaN</td>\n",
       "      <td>NaN</td>\n",
       "      <td>Wu et al., 2020</td>\n",
       "      <td>NaN</td>\n",
       "      <td>NaN</td>\n",
       "      <td>NaN</td>\n",
       "    </tr>\n",
       "    <tr>\n",
       "      <th>4</th>\n",
       "      <td>Loess Plateau</td>\n",
       "      <td>NaN</td>\n",
       "      <td>1000</td>\n",
       "      <td>2020</td>\n",
       "      <td>1</td>\n",
       "      <td>NaN</td>\n",
       "      <td>2000</td>\n",
       "      <td>2000</td>\n",
       "      <td>human-land</td>\n",
       "      <td>transition from cultivation to ecological cons...</td>\n",
       "      <td>...</td>\n",
       "      <td>Correlation coefficient</td>\n",
       "      <td>Sig. change</td>\n",
       "      <td>NaN</td>\n",
       "      <td>NaN</td>\n",
       "      <td>NaN</td>\n",
       "      <td>NaN</td>\n",
       "      <td>Wu et al., 2020</td>\n",
       "      <td>NaN</td>\n",
       "      <td>NaN</td>\n",
       "      <td>NaN</td>\n",
       "    </tr>\n",
       "    <tr>\n",
       "      <th>5</th>\n",
       "      <td>Yellow River lower reaches</td>\n",
       "      <td>NaN</td>\n",
       "      <td>1950</td>\n",
       "      <td>2015</td>\n",
       "      <td>1</td>\n",
       "      <td>NaN</td>\n",
       "      <td>1970</td>\n",
       "      <td>1980</td>\n",
       "      <td>hydrology-sediment</td>\n",
       "      <td>Low efficiency regime (EH)</td>\n",
       "      <td>...</td>\n",
       "      <td>EH formulation and GEH formulation</td>\n",
       "      <td>Related River Dynamics Standard</td>\n",
       "      <td>NaN</td>\n",
       "      <td>NaN</td>\n",
       "      <td>NaN</td>\n",
       "      <td>NaN</td>\n",
       "      <td>Ma et al., 2020</td>\n",
       "      <td>NaN</td>\n",
       "      <td>NaN</td>\n",
       "      <td>NaN</td>\n",
       "    </tr>\n",
       "  </tbody>\n",
       "</table>\n",
       "<p>5 rows × 26 columns</p>\n",
       "</div>"
      ],
      "text/plain": [
       "RS case number                      Region spatial scale (km2)  \\\n",
       "1                            Loess Plateau                 NaN   \n",
       "2                            Loess Plateau                 NaN   \n",
       "3                            Loess Plateau                 NaN   \n",
       "4                            Loess Plateau                 NaN   \n",
       "5               Yellow River lower reaches                 NaN   \n",
       "\n",
       "RS case number Study Peiord start(y-1) Study Peiord end(y-1) Time resolution  \\\n",
       "1                                 1000                  2020             100   \n",
       "2                                 1000                  2020              10   \n",
       "3                                 1000                  2020               5   \n",
       "4                                 1000                  2020               1   \n",
       "5                                 1950                  2015               1   \n",
       "\n",
       "RS case number Evidence Shift Start year Shift End Year              System  \\\n",
       "1                   NaN             1750           1750          human-land   \n",
       "2                   NaN             1950           1950          human-land   \n",
       "3                   NaN             1980           1980          human-land   \n",
       "4                   NaN             2000           2000          human-land   \n",
       "5                   NaN             1970           1980  hydrology-sediment   \n",
       "\n",
       "RS case number                                      Regime before  ...  \\\n",
       "1                                   fast expansion of cultivation  ...   \n",
       "2                                   slow expansion of cultivation  ...   \n",
       "3                          land engineering for higher production  ...   \n",
       "4               transition from cultivation to ecological cons...  ...   \n",
       "5                                      Low efficiency regime (EH)  ...   \n",
       "\n",
       "RS case number                     analyze Methods  \\\n",
       "1                          Correlation coefficient   \n",
       "2                          Correlation coefficient   \n",
       "3                          Correlation coefficient   \n",
       "4                          Correlation coefficient   \n",
       "5               EH formulation and GEH formulation   \n",
       "\n",
       "RS case number                         Standard  \\\n",
       "1                                   Sig. change   \n",
       "2                                   Sig. change   \n",
       "3                                   Sig. change   \n",
       "4                                   Sig. change   \n",
       "5               Related River Dynamics Standard   \n",
       "\n",
       "RS case number how to recognize (breakpoint/period) Patterns reliability  \\\n",
       "1                                               NaN      NaN         NaN   \n",
       "2                                               NaN      NaN         NaN   \n",
       "3                                               NaN      NaN         NaN   \n",
       "4                                               NaN      NaN         NaN   \n",
       "5                                               NaN      NaN         NaN   \n",
       "\n",
       "RS case number others      Reference_1 Reference_2  NaN  NaN  \n",
       "1                 NaN  Wu et al., 2020         NaN  NaN  NaN  \n",
       "2                 NaN  Wu et al., 2020         NaN  NaN  NaN  \n",
       "3                 NaN  Wu et al., 2020         NaN  NaN  NaN  \n",
       "4                 NaN  Wu et al., 2020         NaN  NaN  NaN  \n",
       "5                 NaN  Ma et al., 2020         NaN  NaN  NaN  \n",
       "\n",
       "[5 rows x 26 columns]"
      ]
     },
     "execution_count": 2,
     "metadata": {},
     "output_type": "execute_result"
    }
   ],
   "source": [
    "data = pd.read_excel(\"Regime_shift_case0422.xlsx\", index_col=1).T.iloc[1:, :]\n",
    "data.head()"
   ]
  },
  {
   "cell_type": "code",
   "execution_count": 3,
   "metadata": {},
   "outputs": [
    {
     "data": {
      "text/plain": [
       "array([nan, 'accumulaiton of small disturbance',\n",
       "       ' sustaintal structural change ',\n",
       "       ' sustaintal structural change;huge disturbance',\n",
       "       ' sustaintal dffect change;accumullation of small disturbance',\n",
       "       'just phenomenon;', 'huge disturbance',\n",
       "       ' sustaintal structural change;phenomenon', 'just phenomenon',\n",
       "       'accumulation of small disturbance;substaintial effects change ',\n",
       "       'difficult to decide(less evidence)', 'maybe huge disturbance',\n",
       "       'maths', 'matehs',\n",
       "       'difficult to decide(less evidence)/maybe huge disturbance',\n",
       "       'huge disturbance ', 'subataintial structural change',\n",
       "       'huge disturbance;substaintial sturctural change ',\n",
       "       'substaintial sturctural change ', 'maybe just phenomenon'],\n",
       "      dtype=object)"
      ]
     },
     "execution_count": 3,
     "metadata": {},
     "output_type": "execute_result"
    },
    {
     "data": {
      "text/plain": [
       "20"
      ]
     },
     "execution_count": 3,
     "metadata": {},
     "output_type": "execute_result"
    },
    {
     "data": {
      "text/plain": [
       "accumulaiton of small disturbance                             4\n",
       "sustaintal structural change                                 15\n",
       "huge disturbance                                             13\n",
       "sustaintal dffect change                                      1\n",
       "accumullation of small disturbance                            1\n",
       "just phenomenon                                               6\n",
       "                                                              4\n",
       "phenomenon                                                    1\n",
       "accumulation of small disturbance                             1\n",
       "substaintial effects change                                   1\n",
       "difficult to decide(less evidence)                            1\n",
       "maybe huge disturbance                                       19\n",
       "maths                                                        11\n",
       "matehs                                                        1\n",
       "difficult to decide(less evidence)/maybe huge disturbance     1\n",
       "subataintial structural change                                1\n",
       "substaintial sturctural change                                4\n",
       "maybe just phenomenon                                         1\n",
       "dtype: int64"
      ]
     },
     "execution_count": 3,
     "metadata": {},
     "output_type": "execute_result"
    }
   ],
   "source": [
    "data.Patterns.unique()\n",
    "len(data.Patterns.unique())\n",
    "\n",
    "data['Patterns'] = data['Patterns'].str.strip().str.split(\";\")\n",
    "\n",
    "count_dic = {}\n",
    "for items in data['Patterns'].dropna().values:\n",
    "    for item in items:\n",
    "        if item in count_dic:\n",
    "            count_dic[item] += 1\n",
    "        else:\n",
    "            count_dic[item] = 1\n",
    "\n",
    "freq = pd.Series(count_dic)"
   ]
  },
  {
   "cell_type": "code",
   "execution_count": 12,
   "metadata": {},
   "outputs": [
    {
     "data": {
      "text/plain": [
       "<matplotlib.axes._subplots.AxesSubplot at 0x7fced0f05c10>"
      ]
     },
     "execution_count": 12,
     "metadata": {},
     "output_type": "execute_result"
    },
    {
     "data": {
      "image/png": "[encoded data removed]",
      "text/plain": [
       "<Figure size 864x288 with 1 Axes>"
      ]
     },
     "metadata": {
      "image/png": {
       "height": 368,
       "width": 727
      },
      "needs_background": "light"
     },
     "output_type": "display_data"
    }
   ],
   "source": [
    "freq = pd.Series(count_dic)\n",
    "freq[freq > 3].plot.bar(rot=45, figsize=(12, 4))"
   ]
  },
  {
   "cell_type": "code",
   "execution_count": 14,
   "metadata": {},
   "outputs": [
    {
     "data": {
      "text/plain": [
       "maybe huge disturbance                                       19\n",
       "sustaintal structural change                                 15\n",
       "huge disturbance                                             13\n",
       "maths                                                        11\n",
       "just phenomenon                                               6\n",
       "accumulaiton of small disturbance                             4\n",
       "                                                              4\n",
       "substaintial sturctural change                                4\n",
       "sustaintal dffect change                                      1\n",
       "accumullation of small disturbance                            1\n",
       "maybe just phenomenon                                         1\n",
       "phenomenon                                                    1\n",
       "substaintial effects change                                   1\n",
       "difficult to decide(less evidence)                            1\n",
       "matehs                                                        1\n",
       "difficult to decide(less evidence)/maybe huge disturbance     1\n",
       "subataintial structural change                                1\n",
       "accumulation of small disturbance                             1\n",
       "dtype: int64"
      ]
     },
     "execution_count": 14,
     "metadata": {},
     "output_type": "execute_result"
    }
   ],
   "source": [
    "freq.sort_values(ascending=False)"
   ]
  },
  {
   "cell_type": "code",
   "execution_count": 17,
   "metadata": {},
   "outputs": [],
   "source": [
    "data.to_csv(\"cleaned_data.csv\")"
   ]
  },
  {
   "cell_type": "code",
   "execution_count": 18,
   "metadata": {},
   "outputs": [
    {
     "name": "stdout",
     "output_type": "stream",
     "text": [
      "usage: pandas_profiling [-h] [--version] [-s] [-m] [-e]\n",
      "                        [--pool_size POOL_SIZE] [--title TITLE]\n",
      "                        [--config_file CONFIG_FILE]\n",
      "                        input_file [output_file]\n",
      "\n",
      "Profile the variables in a CSV file and generate a HTML report.\n",
      "\n",
      "positional arguments:\n",
      "  input_file            CSV file (or other file type supported by pandas) to\n",
      "                        profile\n",
      "  output_file           Output report file. If empty, replaces the\n",
      "                        input_file's extension with .html and uses that.\n",
      "\n",
      "optional arguments:\n",
      "  -h, --help            show this help message and exit\n",
      "  --version             show program's version number and exit\n",
      "  -s, --silent          Only generate but do not open report\n",
      "  -m, --minimal         Minimal configuration for big data sets\n",
      "  -e, --explorative     Explorative configuration featuring unicode, file and\n",
      "                        image analysis\n",
      "  --pool_size POOL_SIZE\n",
      "                        Number of CPU cores to use\n",
      "  --title TITLE         Title for the report\n",
      "  --config_file CONFIG_FILE\n",
      "                        Specify a yaml config file. Have a look at the\n",
      "                        'config_default.yaml' as a starting point.\n"
     ]
    }
   ],
   "source": [
    "!pandas_profiling -h"
   ]
  },
  {
   "cell_type": "code",
   "execution_count": null,
   "metadata": {},
   "outputs": [],
   "source": []
  }
 ],
 "metadata": {
  "kernelspec": {
   "display_name": "Python 3",
   "language": "python",
   "name": "python3"
  },
  "language_info": {
   "codemirror_mode": {
    "name": "ipython",
    "version": 3
   },
   "file_extension": ".py",
   "mimetype": "text/x-python",
   "name": "python",
   "nbconvert_exporter": "python",
   "pygments_lexer": "ipython3",
   "version": "3.8.3"
  }
 },
 "nbformat": 4,
 "nbformat_minor": 4
}
