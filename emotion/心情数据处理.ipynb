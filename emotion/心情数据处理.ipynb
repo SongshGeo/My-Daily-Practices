{
 "cells": [
  {
   "cell_type": "markdown",
   "id": "2b67a151",
   "metadata": {},
   "source": [
    "# 心情数据处理"
   ]
  },
  {
   "cell_type": "code",
   "execution_count": 1,
   "id": "69eb5f0a",
   "metadata": {},
   "outputs": [],
   "source": [
    "#!/usr/bin/env python 3.83\n",
    "# -*-coding:utf-8 -*-\n",
    "# Created date: 2021-21-27\n",
    "# @Author  : Shuang Song\n",
    "# @Contact   : SongshGeo@gmail.com\n",
    "# GitHub   : https://github.com/SongshGeo\n",
    "# Research Gate: https://www.researchgate.net/profile/Song_Shuang9\n",
    "\n",
    "# 常用的软件包\n",
    "import sys, os  # 系统路径工具\n",
    "import pandas as pd\n",
    "import numpy as np\n",
    "import seaborn as sns\n",
    "from matplotlib import pyplot as plt\n",
    "\n",
    "# 添加上级目录\n",
    "sys.path.append('..')\n",
    "\n",
    "# 显示绘图\n",
    "%matplotlib inline\n",
    "%config InlineBackend.figure_format = 'retina'\n",
    "plt.rcParams['axes.facecolor'] = 'white'\n",
    "\n",
    "# 自定义配色\n",
    "nature_colors = {\n",
    "    'NS': \"#c83c1c\",\n",
    "    'Nature': \"#29303c\",\n",
    "    'NCC': \"#0889a6\",\n",
    "    'NC': \"#f1801f\",\n",
    "    'NG': \"#006c43\",\n",
    "    'NHB': \"#1951A0\",\n",
    "    'NEE': \"#C7D530\"\n",
    "}"
   ]
  },
  {
   "cell_type": "code",
   "execution_count": 2,
   "id": "924c9ce4",
   "metadata": {},
   "outputs": [
    {
     "data": {
      "text/html": [
       "<div><div id=f196b298-a64a-43e4-93a1-cfaec529c778 style=\"display:none; background-color:#9D6CFF; color:white; width:200px; height:30px; padding-left:5px; border-radius:4px; flex-direction:row; justify-content:space-around; align-items:center;\" onmouseover=\"this.style.backgroundColor='#BA9BF8'\" onmouseout=\"this.style.backgroundColor='#9D6CFF'\" onclick=\"window.commands?.execute('create-mitosheet-from-dataframe-output');\">See Full Dataframe in Mito</div> <script> if (window.commands.hasCommand('create-mitosheet-from-dataframe-output')) document.getElementById('f196b298-a64a-43e4-93a1-cfaec529c778').style.display = 'flex' </script> <table border=\"1\" class=\"dataframe\">\n",
       "  <thead>\n",
       "    <tr style=\"text-align: right;\">\n",
       "      <th></th>\n",
       "      <th>full_date</th>\n",
       "      <th>date</th>\n",
       "      <th>weekday</th>\n",
       "      <th>time</th>\n",
       "      <th>mood</th>\n",
       "      <th>activities</th>\n",
       "      <th>note_title</th>\n",
       "      <th>note</th>\n",
       "    </tr>\n",
       "  </thead>\n",
       "  <tbody>\n",
       "    <tr>\n",
       "      <th>0</th>\n",
       "      <td>2021-12-01</td>\n",
       "      <td>12月1日</td>\n",
       "      <td>星期三</td>\n",
       "      <td>上午10:02</td>\n",
       "      <td>开心</td>\n",
       "      <td>科研</td>\n",
       "      <td>NaN</td>\n",
       "      <td>NaN</td>\n",
       "    </tr>\n",
       "    <tr>\n",
       "      <th>1</th>\n",
       "      <td>2021-11-30</td>\n",
       "      <td>11月30日</td>\n",
       "      <td>星期二</td>\n",
       "      <td>下午8:01</td>\n",
       "      <td>开心</td>\n",
       "      <td>见朋友</td>\n",
       "      <td>NaN</td>\n",
       "      <td>NaN</td>\n",
       "    </tr>\n",
       "    <tr>\n",
       "      <th>2</th>\n",
       "      <td>2021-11-30</td>\n",
       "      <td>11月30日</td>\n",
       "      <td>星期二</td>\n",
       "      <td>下午8:00</td>\n",
       "      <td>超烂</td>\n",
       "      <td>家庭</td>\n",
       "      <td>NaN</td>\n",
       "      <td>NaN</td>\n",
       "    </tr>\n",
       "    <tr>\n",
       "      <th>3</th>\n",
       "      <td>2021-11-29</td>\n",
       "      <td>11月29日</td>\n",
       "      <td>星期一</td>\n",
       "      <td>上午12:27</td>\n",
       "      <td>不爽</td>\n",
       "      <td>科研</td>\n",
       "      <td>NaN</td>\n",
       "      <td>NaN</td>\n",
       "    </tr>\n",
       "    <tr>\n",
       "      <th>4</th>\n",
       "      <td>2021-11-28</td>\n",
       "      <td>11月28日</td>\n",
       "      <td>星期日</td>\n",
       "      <td>下午8:01</td>\n",
       "      <td>狂喜</td>\n",
       "      <td>见朋友</td>\n",
       "      <td>NaN</td>\n",
       "      <td>NaN</td>\n",
       "    </tr>\n",
       "  </tbody>\n",
       "</table></div>"
      ],
      "text/plain": [
       "    full_date    date weekday     time mood activities  note_title note\n",
       "0  2021-12-01   12月1日     星期三  上午10:02   开心         科研         NaN  NaN\n",
       "1  2021-11-30  11月30日     星期二   下午8:01   开心        见朋友         NaN  NaN\n",
       "2  2021-11-30  11月30日     星期二   下午8:00   超烂         家庭         NaN  NaN\n",
       "3  2021-11-29  11月29日     星期一  上午12:27   不爽         科研         NaN  NaN\n",
       "4  2021-11-28  11月28日     星期日   下午8:01   狂喜        见朋友         NaN  NaN"
      ]
     },
     "execution_count": 2,
     "metadata": {},
     "output_type": "execute_result"
    }
   ],
   "source": [
    "data = pd.read_csv(\"daylio_export_2021_12_01.csv\")\n",
    "\n",
    "data.head()"
   ]
  },
  {
   "cell_type": "code",
   "execution_count": 3,
   "id": "aaeb9a32",
   "metadata": {},
   "outputs": [
    {
     "data": {
      "text/plain": [
       "(530, 8)"
      ]
     },
     "execution_count": 3,
     "metadata": {},
     "output_type": "execute_result"
    }
   ],
   "source": [
    "data.shape"
   ]
  }
 ],
 "metadata": {
  "kernelspec": {
   "display_name": "Python 3",
   "language": "python",
   "name": "python3"
  },
  "language_info": {
   "codemirror_mode": {
    "name": "ipython",
    "version": 3
   },
   "file_extension": ".py",
   "mimetype": "text/x-python",
   "name": "python",
   "nbconvert_exporter": "python",
   "pygments_lexer": "ipython3",
   "version": "3.8.8"
  }
 },
 "nbformat": 4,
 "nbformat_minor": 5
}
