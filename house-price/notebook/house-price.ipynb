{
 "cells": [
  {
   "cell_type": "markdown",
   "metadata": {},
   "source": [
    "# 房屋价格预测项目"
   ]
  },
  {
   "cell_type": "markdown",
   "metadata": {},
   "source": [
    "## 练习项目\n",
    "\n",
    "在这个项目中，我还要注重练习新工具的使用：\n",
    "\n",
    "- Pandas Profiling：自动生成数据集的概览\n",
    "- Pandas Pipeline: 形成链式方法"
   ]
  },
  {
   "cell_type": "code",
   "execution_count": 1,
   "metadata": {},
   "outputs": [],
   "source": [
    "import pandas as pd\n",
    "import pdpipe as pdp"
   ]
  },
  {
   "cell_type": "markdown",
   "metadata": {},
   "source": [
    "**Pandas Profiling 的使用方法：**\n",
    "```\n",
    "import numpy as np\n",
    "import pandas as pd\n",
    "from pandas_profiling import ProfileReport\n",
    "\n",
    "df = pd.DataFrame(\n",
    "    np.random.rand(100, 5),\n",
    "    columns=['a', 'b', 'c', 'd', 'e']\n",
    ")\n",
    "\n",
    "profile = ProfileReport(df, title='Pandas Profiling Report')\n",
    "\n",
    "Saving the report\n",
    "If you want to generate a HTML report file, save the ProfileReport to an object and use the to_file() function:\n",
    "\n",
    "profile.to_file('your_report.html')\n",
    "Alternatively, you can obtain the data as JSON:\n",
    "\n",
    "# As a string\n",
    "json_data = profile.to_json()\n",
    "\n",
    "# As a file\n",
    "profile.to_file('your_report.json')\n",
    "```\n",
    "\n",
    "**对大数据集可以使用这样的方法：**\n",
    "```\n",
    "profile = ProfileReport(large_dataset, minimal=True)\n",
    "profile.to_file('output.html')\n",
    "```\n",
    "\n",
    "**还可以直接在命令行中使用：**\n",
    "pandas_profiling -h"
   ]
  },
  {
   "cell_type": "markdown",
   "metadata": {},
   "source": [
    "**Pandas Pipeline 的使用方法:**\n",
    "[这是一篇值得参考的博客](https://www.cnblogs.com/feffery/p/12179647.html)\n",
    "\n",
    "```\n",
    "# 以pdp.PdPipeline传入流程列表的方式创建pipeline\n",
    "'''\n",
    "pdp.ColDrop:删除列；\n",
    "ApplyByCols：基于列做，应用apply\n",
    "RowDrop：删除行\n",
    "案例解释：\n",
    "1、删除original_title列\n",
    "2、对title列进行小写化处理\n",
    "3、丢掉vote_average小于等于7，且original_language不为en的行\n",
    "4、求得genres对应电影类型的数量保存为新列genres_num，并删除原有的genres列\n",
    "5、丢掉genres_num小于等于5的行\n",
    "\n",
    "这些操作操作直接使用pandas并不会花多少时间，但是如果想要不创造任何中间临时结果一步到位产生所需的数据框子集，\n",
    "并且保持代码的可读性不是一件太容易的事，但是利用pdpipe，就可以非常优雅地实现上述过程\n",
    "'''\n",
    "first_pipeline = pdp.PdPipeline([pdp.ColDrop('original_title'), \n",
    "                                 pdp.ApplyByCols(columns=['title'], func=lambda x: x.lower()),\n",
    "                                 pdp.RowDrop({'vote_average': lambda x: x <= 7, 'original_language': lambda x: x != 'en'}),\n",
    "                                 pdp.ApplyByCols(columns=['genres'], func=lambda x: [item['name'] for item in eval(x)].__len__(), result_columns=['genres_num']),\n",
    "                                 pdp.RowDrop({'genres_num': lambda x: x <= 5})])\n",
    "\n",
    "# 将创建的pipeline直接作用于data直接得到所需结果，并打印流程信息\n",
    "first_pipeline(data, verbose=True).reset_index(drop=True)\n",
    "```"
   ]
  },
  {
   "cell_type": "markdown",
   "metadata": {},
   "source": [
    "## 数据清洗"
   ]
  },
  {
   "cell_type": "markdown",
   "metadata": {},
   "source": [
    "我们已经在命令行中使用了命令，生成对训练数据机的描述统计，如果没有生成过，可以使用如下命令："
   ]
  },
  {
   "cell_type": "raw",
   "metadata": {},
   "source": [
    "! pandas_profiling ../data/train.csv  ../log/data-description.html"
   ]
  },
  {
   "cell_type": "markdown",
   "metadata": {},
   "source": [
    "接下来，我们对数据进行清洗，包含以下主要步骤：\n",
    "\n",
    "<img src='../figs/data_clean.jpg' alt='数据清洗步骤' style='zoom:50%'>"
   ]
  },
  {
   "cell_type": "markdown",
   "metadata": {},
   "source": [
    "### 选择子集：\n",
    "\n",
    "此时，参考上一步生成的数据描述文档，和数据集的说明文档，对变量逐一进行检查，旨在理解哪些特征是有信息量的。\n",
    "\n",
    "根据个人经验，房屋🏠价格影响程度由以下因素决定：\n",
    "\n",
    "- 区位 (location)：周围环境、交通便利、坡度朝向、\n",
    "- 户型 (size)：面积大小、庭院大小、规整程度、\n",
    "- 设施 (facility)：水电、油气、加热、\n",
    "- 产权 (property)：出售、长租、分配\n",
    "- 材料 (material)：基本材料、装饰材料\n",
    "- 评估 (evaluate)：新旧程度、状况评估"
   ]
  },
  {
   "cell_type": "code",
   "execution_count": 2,
   "metadata": {},
   "outputs": [
    {
     "data": {
      "text/html": [
       "<div>\n",
       "<style scoped>\n",
       "    .dataframe tbody tr th:only-of-type {\n",
       "        vertical-align: middle;\n",
       "    }\n",
       "\n",
       "    .dataframe tbody tr th {\n",
       "        vertical-align: top;\n",
       "    }\n",
       "\n",
       "    .dataframe thead th {\n",
       "        text-align: right;\n",
       "    }\n",
       "</style>\n",
       "<table border=\"1\" class=\"dataframe\">\n",
       "  <thead>\n",
       "    <tr style=\"text-align: right;\">\n",
       "      <th></th>\n",
       "      <th>Id</th>\n",
       "      <th>MSSubClass</th>\n",
       "      <th>MSZoning</th>\n",
       "      <th>LotFrontage</th>\n",
       "      <th>LotArea</th>\n",
       "      <th>Street</th>\n",
       "      <th>Alley</th>\n",
       "      <th>LotShape</th>\n",
       "      <th>LandContour</th>\n",
       "      <th>Utilities</th>\n",
       "      <th>...</th>\n",
       "      <th>PoolArea</th>\n",
       "      <th>PoolQC</th>\n",
       "      <th>Fence</th>\n",
       "      <th>MiscFeature</th>\n",
       "      <th>MiscVal</th>\n",
       "      <th>MoSold</th>\n",
       "      <th>YrSold</th>\n",
       "      <th>SaleType</th>\n",
       "      <th>SaleCondition</th>\n",
       "      <th>SalePrice</th>\n",
       "    </tr>\n",
       "  </thead>\n",
       "  <tbody>\n",
       "    <tr>\n",
       "      <th>0</th>\n",
       "      <td>1</td>\n",
       "      <td>60</td>\n",
       "      <td>RL</td>\n",
       "      <td>65.0</td>\n",
       "      <td>8450</td>\n",
       "      <td>Pave</td>\n",
       "      <td>NaN</td>\n",
       "      <td>Reg</td>\n",
       "      <td>Lvl</td>\n",
       "      <td>AllPub</td>\n",
       "      <td>...</td>\n",
       "      <td>0</td>\n",
       "      <td>NaN</td>\n",
       "      <td>NaN</td>\n",
       "      <td>NaN</td>\n",
       "      <td>0</td>\n",
       "      <td>2</td>\n",
       "      <td>2008</td>\n",
       "      <td>WD</td>\n",
       "      <td>Normal</td>\n",
       "      <td>208500</td>\n",
       "    </tr>\n",
       "    <tr>\n",
       "      <th>1</th>\n",
       "      <td>2</td>\n",
       "      <td>20</td>\n",
       "      <td>RL</td>\n",
       "      <td>80.0</td>\n",
       "      <td>9600</td>\n",
       "      <td>Pave</td>\n",
       "      <td>NaN</td>\n",
       "      <td>Reg</td>\n",
       "      <td>Lvl</td>\n",
       "      <td>AllPub</td>\n",
       "      <td>...</td>\n",
       "      <td>0</td>\n",
       "      <td>NaN</td>\n",
       "      <td>NaN</td>\n",
       "      <td>NaN</td>\n",
       "      <td>0</td>\n",
       "      <td>5</td>\n",
       "      <td>2007</td>\n",
       "      <td>WD</td>\n",
       "      <td>Normal</td>\n",
       "      <td>181500</td>\n",
       "    </tr>\n",
       "    <tr>\n",
       "      <th>2</th>\n",
       "      <td>3</td>\n",
       "      <td>60</td>\n",
       "      <td>RL</td>\n",
       "      <td>68.0</td>\n",
       "      <td>11250</td>\n",
       "      <td>Pave</td>\n",
       "      <td>NaN</td>\n",
       "      <td>IR1</td>\n",
       "      <td>Lvl</td>\n",
       "      <td>AllPub</td>\n",
       "      <td>...</td>\n",
       "      <td>0</td>\n",
       "      <td>NaN</td>\n",
       "      <td>NaN</td>\n",
       "      <td>NaN</td>\n",
       "      <td>0</td>\n",
       "      <td>9</td>\n",
       "      <td>2008</td>\n",
       "      <td>WD</td>\n",
       "      <td>Normal</td>\n",
       "      <td>223500</td>\n",
       "    </tr>\n",
       "  </tbody>\n",
       "</table>\n",
       "<p>3 rows × 81 columns</p>\n",
       "</div>"
      ],
      "text/plain": [
       "   Id  MSSubClass MSZoning  LotFrontage  LotArea Street Alley LotShape  \\\n",
       "0   1          60       RL         65.0     8450   Pave   NaN      Reg   \n",
       "1   2          20       RL         80.0     9600   Pave   NaN      Reg   \n",
       "2   3          60       RL         68.0    11250   Pave   NaN      IR1   \n",
       "\n",
       "  LandContour Utilities  ... PoolArea PoolQC Fence MiscFeature MiscVal MoSold  \\\n",
       "0         Lvl    AllPub  ...        0    NaN   NaN         NaN       0      2   \n",
       "1         Lvl    AllPub  ...        0    NaN   NaN         NaN       0      5   \n",
       "2         Lvl    AllPub  ...        0    NaN   NaN         NaN       0      9   \n",
       "\n",
       "  YrSold  SaleType  SaleCondition  SalePrice  \n",
       "0   2008        WD         Normal     208500  \n",
       "1   2007        WD         Normal     181500  \n",
       "2   2008        WD         Normal     223500  \n",
       "\n",
       "[3 rows x 81 columns]"
      ]
     },
     "execution_count": 2,
     "metadata": {},
     "output_type": "execute_result"
    },
    {
     "name": "stdout",
     "output_type": "stream",
     "text": [
      "原始的变量:\n"
     ]
    },
    {
     "data": {
      "text/plain": [
       "Index(['Id', 'MSSubClass', 'MSZoning', 'LotFrontage', 'LotArea', 'Street',\n",
       "       'Alley', 'LotShape', 'LandContour', 'Utilities', 'LotConfig',\n",
       "       'LandSlope', 'Neighborhood', 'Condition1', 'Condition2', 'BldgType',\n",
       "       'HouseStyle', 'OverallQual', 'OverallCond', 'YearBuilt', 'YearRemodAdd',\n",
       "       'RoofStyle', 'RoofMatl', 'Exterior1st', 'Exterior2nd', 'MasVnrType',\n",
       "       'MasVnrArea', 'ExterQual', 'ExterCond', 'Foundation', 'BsmtQual',\n",
       "       'BsmtCond', 'BsmtExposure', 'BsmtFinType1', 'BsmtFinSF1',\n",
       "       'BsmtFinType2', 'BsmtFinSF2', 'BsmtUnfSF', 'TotalBsmtSF', 'Heating',\n",
       "       'HeatingQC', 'CentralAir', 'Electrical', '1stFlrSF', '2ndFlrSF',\n",
       "       'LowQualFinSF', 'GrLivArea', 'BsmtFullBath', 'BsmtHalfBath', 'FullBath',\n",
       "       'HalfBath', 'BedroomAbvGr', 'KitchenAbvGr', 'KitchenQual',\n",
       "       'TotRmsAbvGrd', 'Functional', 'Fireplaces', 'FireplaceQu', 'GarageType',\n",
       "       'GarageYrBlt', 'GarageFinish', 'GarageCars', 'GarageArea', 'GarageQual',\n",
       "       'GarageCond', 'PavedDrive', 'WoodDeckSF', 'OpenPorchSF',\n",
       "       'EnclosedPorch', '3SsnPorch', 'ScreenPorch', 'PoolArea', 'PoolQC',\n",
       "       'Fence', 'MiscFeature', 'MiscVal', 'MoSold', 'YrSold', 'SaleType',\n",
       "       'SaleCondition', 'SalePrice'],\n",
       "      dtype='object')"
      ]
     },
     "execution_count": 2,
     "metadata": {},
     "output_type": "execute_result"
    },
    {
     "name": "stdout",
     "output_type": "stream",
     "text": [
      "原始训练数据集大小:\n"
     ]
    },
    {
     "data": {
      "text/plain": [
       "(1460, 81)"
      ]
     },
     "execution_count": 2,
     "metadata": {},
     "output_type": "execute_result"
    }
   ],
   "source": [
    "train = pd.read_csv('../data/train.csv')\n",
    "train.head(3)\n",
    "\n",
    "print(\"原始的变量:\")\n",
    "train.columns\n",
    "\n",
    "print(\"原始训练数据集大小:\")\n",
    "train.shape"
   ]
  },
  {
   "cell_type": "code",
   "execution_count": 3,
   "metadata": {},
   "outputs": [],
   "source": [
    "# 根据上述大致划分，对每个变量有一个归类\n",
    "\n",
    "locations = {\n",
    "    'MSSubClass': 'house_class_cat',  # 售卖类型，分类\n",
    "    'MSZoning': 'house_zoning_cat',  # 区位，分类\n",
    "    'LotFrontage': 'adj_street_frontage_num',  # 与街角相连的长度，数字\n",
    "    'Street': 'street_cat',  # 街道是石子路还是铺砌的，分类\n",
    "    'Alley': 'alley_cat',  # 门口小路是石子还是铺砌，分类\n",
    "    'LandContour': 'land_flatness_cat',  # 土地的平坦类型\n",
    "    'LandSlope': 'land_slope_cat',  # 土地的坡度\n",
    "    'Neighborhood': 'neighborhood_cat',  # 街道类型\n",
    "    'Condition1': 'location_condition_1_cat',  # 区位状况1\n",
    "    'Condition2': 'location_condition_2_cat',  # 区位状况2\n",
    "}\n",
    "\n",
    "config = {\n",
    "    'LotArea': 'area_num',  # 房屋面积\n",
    "    'LotShape': 'shape_cat',  # 房屋形状\n",
    "    'LotConfig': 'config_cat',  # 房屋结构\n",
    "    'BldgType': 'dwelling_type_cat',  # 户型\n",
    "    'HouseStyle': 'house_style_cat',  # 房屋风格\n",
    "    'RoofStyle': 'roof_style_cat',  # 屋顶的风格\n",
    "    'MasVnrArea': 'masonry_veneer_area_num',  # 隔板面积\n",
    "    'BsmtFinSF1': 'basement_finish_1_num',  # 完工的基地面积\n",
    "    'BsmtFinSF2': 'basement_finish_2_num',  # 完工的基地面积\n",
    "    'BsmtUnfSF': 'unfinished_basement_num',  # 未完工的面积\n",
    "    'TotalBsmtSF': 'total_basement_num',  # 总面积\n",
    "    '1stFlrSF': '1st_floor_num',  # 一楼面积\n",
    "    '2ndFlrSF': '2nd_floor_num',  # 二楼面积\n",
    "    'LowQualFinSF': 'low_quality_finished_num',  # 低质量完工的面积\n",
    "    'GrLivArea': 'living_area_num',  # 居住面积\n",
    "    'BsmtFullBath': 'basement_full_bathroom_num',  # 高档浴室\n",
    "    'BsmtHalfBath': 'basement_half_bathroom_num',  # 浴室\n",
    "    'FullBath': 'full_bathroom_num',  # 总共的高档浴室\n",
    "    'HalfBath': 'half_bathroom_num',  # 总共的浴室\n",
    "    'BedroomAbvGr': 'bedroom_num',  # 卧室数量\n",
    "    'KitchenAbvGr': 'kitchen_num',  # 厨房数量\n",
    "    'TotRmsAbvGrd': 'total_rooms_num',  # 总共的房间数量\n",
    "    'OpenPorchSF': 'open_porch_num',  # 开放门廊的面积\n",
    "    'EnclosedPorch': 'enclose_proch_num',  # 关闭门廊的面积\n",
    "    '3SsnPorch': 'season_porch_num',  # 能用三个季节的门廊（应该是冬季不能用？）\n",
    "    'ScreenPorch': 'screen_porch_num',  # 屏风门廊\n",
    "    \n",
    "}\n",
    "\n",
    "facilities = {\n",
    "    'Utilities': 'utility_cat',  # 水、电、油、汽等是否有\n",
    "    'Heating': 'heating_cat',  # 加热设施\n",
    "    'CentralAir': 'center_air_bool',  # 有没有中央空调\n",
    "    'Electrical': 'electrical_cat',  # 供电情况\n",
    "    'Fireplaces': 'fireplaces_num',  # 总共的壁炉数量\n",
    "    'GarageType': 'garage_type_cat',  # 车库情况\n",
    "    'GarageYrBlt': 'garage_built_date',  # 车库修建年份\n",
    "    'GarageFinish': 'garage_finish_cat',  # 车库装修状况\n",
    "    'GarageArea': 'garage_area_num',  # 车库面积\n",
    "    'PavedDrive': 'paved_drive_cat',  # 车库路是否铺砌\n",
    "    'PoolArea': 'pool_area_num',  # 泳池面积\n",
    "    'Fence': 'fence_cat',  # 围栏情况\n",
    "    'MiscFeature': 'miscellaneous_cat',  # 没有提到的一些额外杂项设施\n",
    "    'MiscVal': 'miscellaneous_price_num',  # 没有提到的额外杂项设施的价格\n",
    "}\n",
    "\n",
    "sales = {\n",
    "    'YearBuilt': 'built_date',  # 修建时间\n",
    "    'YearRemodAdd': 'remod_date',  # 装修时间\n",
    "    'Functional': 'functional_condition_cat',  # 大部分房屋都是典型功能\n",
    "    'MoSold': 'sold_month_str',  # 出售月份\n",
    "    'YrSold': 'sold_year_str',  # 出售年份\n",
    "    'SaleType': 'sale_type_cat',  # 交易类型\n",
    "    'SaleCondition': 'sale_condition_cat',  # 交易条件\n",
    "    'sold_time': 'sold_time',  # 交易日期\n",
    "    'SalePrice': 'SalePrice',  # 交易金额，预测对象\n",
    "}\n",
    "\n",
    "materials = {\n",
    "    'RoofMatl': 'roof_material_cat',  # 屋顶材料\n",
    "    'Exterior1st': 'exterior_1st_cat',  # 外部第一层材料\n",
    "    'Exterior2nd': 'exterior_2st_cat',  # 外部第二层材料\n",
    "    'MasVnrType': 'masonry_veneer_type_cat',   # 隔板材料\n",
    "    'WoodDeckSF': 'wood_deck_num',  # 木地板面积\n",
    "    'Foundation': 'foundation_cat',  # 地基面积\n",
    "}\n",
    "\n",
    "evaluates = {\n",
    "    'OverallQual': 'house_quality_cat', \n",
    "    'OverallCond': 'house_condition_cat', \n",
    "    'ExterQual': 'exterior_material_quality_cat',  # 外部材料的质量\n",
    "    'ExterCond': 'exterior_material_condition_cat',  # 外部材料的状况\n",
    "    'BsmtQual': 'basement_quality_cat',  # 基地质量\n",
    "    'BsmtCond': 'basement_condition_cat',  # 基地状况\n",
    "    'BsmtExposure': 'basement_exposure_cat',  # 基地采光\n",
    "    'BsmtFinType1': 'basement_finish_type_1_cat',  # 基地完工类型评级\n",
    "    'BsmtFinType2': 'basement_finish_type_2_cat',  # 基地完工评级\n",
    "    'HeatingQC': 'heating_quality_condition_cat',  # 加热质量评级\n",
    "    'KitchenQual': 'kitchen_quality_cat',  # 厨房质量\n",
    "    'FireplaceQu': 'fireplace_quality_cat',  # 壁炉质量\n",
    "    'GarageQual': 'garage_quality_cat',  # 车库质量\n",
    "    'GarageCond': 'garage_condition_cat',  # 车库情况\n",
    "    'PoolQC': 'pool_quality_cat',  # 泳池质量\n",
    "}\n",
    "\n",
    "variable_types = [locations, config, facilities, sales, materials, evaluates]"
   ]
  },
  {
   "cell_type": "markdown",
   "metadata": {},
   "source": [
    "对上述变量进行子集选择，因为样本量远远大于特征数量，所以首先尽量保留所有特征。\n",
    "\n",
    "唯一需要调整的，是把时间转为卖出之前的年份，然后删除原来不用的变量。"
   ]
  },
  {
   "cell_type": "code",
   "execution_count": 4,
   "metadata": {},
   "outputs": [
    {
     "name": "stdout",
     "output_type": "stream",
     "text": [
      "- Generating a column with a function .\n",
      "- Generating a column with a function .\n",
      "- Drop columns YrSold, MoSold, YearBuilt, YearRemodAdd\n"
     ]
    }
   ],
   "source": [
    "# 新增一个列, datetime 类型，是聚合了售出年份和月份的\n",
    "agg_years_built = lambda row: row['YrSold'] - row['YearBuilt']\n",
    "agg_years_remod = lambda row: row['YrSold'] - row['YearRemodAdd']\n",
    "\n",
    "choose_subset = pdp.PdPipeline([\n",
    "    pdp.ApplyToRows(agg_years_built, colname='built_years'),  # 新增出售年月\n",
    "    pdp.ApplyToRows(agg_years_remod, colname='remod_years'),\n",
    "    pdp.ColDrop(['YrSold', 'MoSold', 'YearBuilt', 'YearRemodAdd']),  # 删除原先的年月\n",
    "])\n",
    "\n",
    "train = choose_subset(train, verbose=True)"
   ]
  },
  {
   "cell_type": "markdown",
   "metadata": {},
   "source": [
    "### 变量重命名\n",
    "\n",
    "- 生成定序变量\n",
    "- 生成哑变量\n",
    "- 调整数据类型\n",
    "- 使用上一步建立的些字典为变量重命名"
   ]
  },
  {
   "cell_type": "code",
   "execution_count": 5,
   "metadata": {},
   "outputs": [
    {
     "name": "stdout",
     "output_type": "stream",
     "text": [
      "- Apply a function  to columns OverallQual, OverallCond, ExterQual,\n",
      "  ExterCond, BsmtQual, BsmtCond, BsmtExposure, BsmtFinType1,\n",
      "  BsmtFinType2, HeatingQC, KitchenQual, FireplaceQu, GarageQual,\n",
      "  GarageCond, PoolQC\n"
     ]
    },
    {
     "data": {
      "text/html": [
       "<div>\n",
       "<style scoped>\n",
       "    .dataframe tbody tr th:only-of-type {\n",
       "        vertical-align: middle;\n",
       "    }\n",
       "\n",
       "    .dataframe tbody tr th {\n",
       "        vertical-align: top;\n",
       "    }\n",
       "\n",
       "    .dataframe thead th {\n",
       "        text-align: right;\n",
       "    }\n",
       "</style>\n",
       "<table border=\"1\" class=\"dataframe\">\n",
       "  <thead>\n",
       "    <tr style=\"text-align: right;\">\n",
       "      <th></th>\n",
       "      <th>Id</th>\n",
       "      <th>MSSubClass</th>\n",
       "      <th>MSZoning</th>\n",
       "      <th>LotFrontage</th>\n",
       "      <th>LotArea</th>\n",
       "      <th>Street</th>\n",
       "      <th>Alley</th>\n",
       "      <th>LotShape</th>\n",
       "      <th>LandContour</th>\n",
       "      <th>Utilities</th>\n",
       "      <th>...</th>\n",
       "      <th>PoolArea</th>\n",
       "      <th>PoolQC</th>\n",
       "      <th>Fence</th>\n",
       "      <th>MiscFeature</th>\n",
       "      <th>MiscVal</th>\n",
       "      <th>SaleType</th>\n",
       "      <th>SaleCondition</th>\n",
       "      <th>SalePrice</th>\n",
       "      <th>built_years</th>\n",
       "      <th>remod_years</th>\n",
       "    </tr>\n",
       "  </thead>\n",
       "  <tbody>\n",
       "    <tr>\n",
       "      <th>0</th>\n",
       "      <td>1</td>\n",
       "      <td>60</td>\n",
       "      <td>RL</td>\n",
       "      <td>65.0</td>\n",
       "      <td>8450</td>\n",
       "      <td>Pave</td>\n",
       "      <td>NaN</td>\n",
       "      <td>Reg</td>\n",
       "      <td>Lvl</td>\n",
       "      <td>AllPub</td>\n",
       "      <td>...</td>\n",
       "      <td>0</td>\n",
       "      <td>NaN</td>\n",
       "      <td>NaN</td>\n",
       "      <td>NaN</td>\n",
       "      <td>0</td>\n",
       "      <td>WD</td>\n",
       "      <td>Normal</td>\n",
       "      <td>208500</td>\n",
       "      <td>5</td>\n",
       "      <td>5</td>\n",
       "    </tr>\n",
       "    <tr>\n",
       "      <th>1</th>\n",
       "      <td>2</td>\n",
       "      <td>20</td>\n",
       "      <td>RL</td>\n",
       "      <td>80.0</td>\n",
       "      <td>9600</td>\n",
       "      <td>Pave</td>\n",
       "      <td>NaN</td>\n",
       "      <td>Reg</td>\n",
       "      <td>Lvl</td>\n",
       "      <td>AllPub</td>\n",
       "      <td>...</td>\n",
       "      <td>0</td>\n",
       "      <td>NaN</td>\n",
       "      <td>NaN</td>\n",
       "      <td>NaN</td>\n",
       "      <td>0</td>\n",
       "      <td>WD</td>\n",
       "      <td>Normal</td>\n",
       "      <td>181500</td>\n",
       "      <td>31</td>\n",
       "      <td>31</td>\n",
       "    </tr>\n",
       "    <tr>\n",
       "      <th>2</th>\n",
       "      <td>3</td>\n",
       "      <td>60</td>\n",
       "      <td>RL</td>\n",
       "      <td>68.0</td>\n",
       "      <td>11250</td>\n",
       "      <td>Pave</td>\n",
       "      <td>NaN</td>\n",
       "      <td>IR1</td>\n",
       "      <td>Lvl</td>\n",
       "      <td>AllPub</td>\n",
       "      <td>...</td>\n",
       "      <td>0</td>\n",
       "      <td>NaN</td>\n",
       "      <td>NaN</td>\n",
       "      <td>NaN</td>\n",
       "      <td>0</td>\n",
       "      <td>WD</td>\n",
       "      <td>Normal</td>\n",
       "      <td>223500</td>\n",
       "      <td>7</td>\n",
       "      <td>6</td>\n",
       "    </tr>\n",
       "  </tbody>\n",
       "</table>\n",
       "<p>3 rows × 79 columns</p>\n",
       "</div>"
      ],
      "text/plain": [
       "   Id  MSSubClass MSZoning  LotFrontage  LotArea Street Alley LotShape  \\\n",
       "0   1          60       RL         65.0     8450   Pave   NaN      Reg   \n",
       "1   2          20       RL         80.0     9600   Pave   NaN      Reg   \n",
       "2   3          60       RL         68.0    11250   Pave   NaN      IR1   \n",
       "\n",
       "  LandContour Utilities  ... PoolArea PoolQC Fence MiscFeature MiscVal  \\\n",
       "0         Lvl    AllPub  ...        0    NaN   NaN         NaN       0   \n",
       "1         Lvl    AllPub  ...        0    NaN   NaN         NaN       0   \n",
       "2         Lvl    AllPub  ...        0    NaN   NaN         NaN       0   \n",
       "\n",
       "  SaleType SaleCondition  SalePrice  built_years remod_years  \n",
       "0       WD        Normal     208500            5           5  \n",
       "1       WD        Normal     181500           31          31  \n",
       "2       WD        Normal     223500            7           6  \n",
       "\n",
       "[3 rows x 79 columns]"
      ]
     },
     "execution_count": 5,
     "metadata": {},
     "output_type": "execute_result"
    }
   ],
   "source": [
    "# 生成定序变量，创建映射字典\n",
    "level_dic = {\n",
    "    # 用于大多数评估等级的变量\n",
    "    'Ex': 5,\n",
    "    'Gd': 4,\n",
    "    'TA': 3,\n",
    "    'Fa': 2,\n",
    "    'Po': 1,\n",
    "    \n",
    "    # 用于变量: BsmtFinType\n",
    "    'GLQ': 6,\n",
    "    'ALQ': 5,\n",
    "    'BLQ': 4,\n",
    "    'Rec': 3,\n",
    "    'LwQ': 2,\n",
    "    'Unf': 1,\n",
    "\n",
    "    # 用于变量: BsmtExposure\n",
    "    'Av': 3,\n",
    "    'Mn': 2,\n",
    "    'No': 1,\n",
    "}\n",
    "\n",
    "# 创建 Pandas pipe\n",
    "import numpy as np\n",
    "clean_level_data = pdp.ApplyByCols(list(evaluates.keys()), lambda x: level_dic.get(x, np.nan))\n",
    "clean_level_data(train, verbose=True).head(3)"
   ]
  },
  {
   "cell_type": "code",
   "execution_count": 6,
   "metadata": {},
   "outputs": [
    {
     "name": "stdout",
     "output_type": "stream",
     "text": [
      "YearBuilt not in dataset, please check it!\n",
      "YearRemodAdd not in dataset, please check it!\n",
      "MoSold not in dataset, please check it!\n",
      "YrSold not in dataset, please check it!\n",
      "sold_time not in dataset, please check it!\n"
     ]
    }
   ],
   "source": [
    "# 生成哑变量\n",
    "datatypes = {k: [] for k in ['ordinal', 'category', 'numeric', 'datetime', 'bool']}\n",
    "\n",
    "for dic in variable_types:\n",
    "    for k, v in dic.items():\n",
    "        if k not in train.columns:\n",
    "            print(\"{} not in dataset, please check it!\".format(k))\n",
    "            continue\n",
    "        if v.endswith('cat') and k in evaluates.keys():\n",
    "            datatypes['ordinal'].append(k)\n",
    "        elif v.endswith('cat'):\n",
    "            datatypes['category'].append(k)\n",
    "        elif v.endswith('num'):\n",
    "            datatypes['numeric'].append(k)\n",
    "        elif v.endswith('date') or v.endswith('time'):\n",
    "            datatypes['datetime'].append(k)\n",
    "        elif v.endswith('bool'):\n",
    "            datatypes['bool'].append(k)\n",
    "\n",
    "def update_datatypes(data, old_datatypes):\n",
    "    dtypes = ['ordinal', 'category', 'numeric', 'datetime', 'bool']\n",
    "    new_datatypes = {k: [] for k in dtypes}\n",
    "    for k in datatypes:\n",
    "        for item in old_datatypes[k]:\n",
    "            if item in data:\n",
    "                new_datatypes[k].append(item)\n",
    "    return new_datatypes\n",
    "            \n",
    "            \n",
    "# 创建 pipeline\n",
    "clean_category_data = pdp.OneHotEncode(columns=datatypes['category'], drop_first=False, drop=True)\n",
    "clean_category_data += pdp.OneHotEncode(columns=datatypes['bool'], drop=True)"
   ]
  },
  {
   "cell_type": "code",
   "execution_count": 7,
   "metadata": {},
   "outputs": [
    {
     "name": "stdout",
     "output_type": "stream",
     "text": [
      "- One-hot encode MSSubClass, MSZoning, Street, Alley, LandContour,\n",
      "  LandSlope, Neighborhood, Condition1, Condition2, LotShape, LotConfig,\n",
      "  BldgType, HouseStyle, RoofStyle, Utilities, Heating, Electrical,\n",
      "  GarageType, GarageFinish, PavedDrive, Fence, MiscFeature, Functional,\n",
      "  SaleType, SaleCondition, RoofMatl, Exterior1st, Exterior2nd,\n",
      "  MasVnrType, Foundation\n"
     ]
    },
    {
     "name": "stderr",
     "output_type": "stream",
     "text": [
      "Foundation: 100%|██████████| 30/30 [00:00<00:00, 527.42it/s]"
     ]
    },
    {
     "name": "stdout",
     "output_type": "stream",
     "text": [
      "- One-hot encode CentralAir\n"
     ]
    },
    {
     "name": "stderr",
     "output_type": "stream",
     "text": [
      "\n",
      "CentralAir: 100%|██████████| 1/1 [00:00<00:00, 427.73it/s]"
     ]
    },
    {
     "name": "stdout",
     "output_type": "stream",
     "text": [
      "- Apply a function  to columns OverallQual, OverallCond, ExterQual,\n",
      "  ExterCond, BsmtQual, BsmtCond, BsmtExposure, BsmtFinType1,\n",
      "  BsmtFinType2, HeatingQC, KitchenQual, FireplaceQu, GarageQual,\n",
      "  GarageCond, PoolQC\n",
      "- Apply a function  to columns LotFrontage, LotArea, MasVnrArea,\n",
      "  BsmtFinSF1, BsmtFinSF2, BsmtUnfSF, TotalBsmtSF, 1stFlrSF, 2ndFlrSF,\n",
      "  LowQualFinSF, GrLivArea, BsmtFullBath, BsmtHalfBath, FullBath,\n",
      "  HalfBath, BedroomAbvGr, KitchenAbvGr, TotRmsAbvGrd, OpenPorchSF,\n",
      "  EnclosedPorch, 3SsnPorch, ScreenPorch, Fireplaces, GarageArea,\n",
      "  PoolArea, MiscVal, WoodDeckSF\n"
     ]
    },
    {
     "name": "stderr",
     "output_type": "stream",
     "text": [
      "\n"
     ]
    },
    {
     "name": "stdout",
     "output_type": "stream",
     "text": [
      "- Apply a function  to columns GarageYrBlt\n"
     ]
    }
   ],
   "source": [
    "# 转换数据类型\n",
    "transform_dtype = pdp.ApplyByCols(datatypes['numeric'], pd.to_numeric)\n",
    "transform_dtype += pdp.ApplyByCols(datatypes['datetime'], pd.to_datetime)\n",
    "\n",
    "# 重命名\n",
    "rename_dict = {}\n",
    "for dic in variable_types:\n",
    "    rename_dict.update(dic)\n",
    "\n",
    "# 重命名\n",
    "rename_variable = pdp.PdPipeline([\n",
    "    clean_category_data,\n",
    "    clean_level_data,\n",
    "    transform_dtype,\n",
    "])\n",
    "\n",
    "train = rename_variable(train, verbose=True)\n",
    "train = pdp.ColRename({col: rename_dict.get(col, col) for col in train}).fit(train)"
   ]
  },
  {
   "cell_type": "markdown",
   "metadata": {},
   "source": [
    "### 重复值和缺失值"
   ]
  },
  {
   "cell_type": "markdown",
   "metadata": {},
   "source": [
    "观察数据报告，有四列大概是缺失值极多，必须要丢的。\n",
    "\n",
    "有一列有效值大概在85%左右，可以后续研究中考虑是否加入。\n",
    "\n",
    "没有重复值需要去除。"
   ]
  },
  {
   "cell_type": "code",
   "execution_count": 8,
   "metadata": {},
   "outputs": [
    {
     "name": "stdout",
     "output_type": "stream",
     "text": [
      "\n",
      "Top5 cols in missing values:\n",
      "\n"
     ]
    },
    {
     "data": {
      "text/plain": [
       "OverallQual    1460\n",
       "OverallCond    1460\n",
       "PoolQC         1453\n",
       "FireplaceQu     690\n",
       "LotFrontage     259\n",
       "dtype: int64"
      ]
     },
     "execution_count": 8,
     "metadata": {},
     "output_type": "execute_result"
    },
    {
     "name": "stdout",
     "output_type": "stream",
     "text": [
      "\n",
      "去掉缺失值之前：\n"
     ]
    },
    {
     "data": {
      "text/plain": [
       "(1460, 254)"
      ]
     },
     "execution_count": 8,
     "metadata": {},
     "output_type": "execute_result"
    },
    {
     "name": "stdout",
     "output_type": "stream",
     "text": [
      "- Drops null values.\n",
      "0 rows, 5 columns dropeed\n",
      "- Drops null values.\n",
      "121 rows, 0 columns dropeed\n",
      "\n",
      "去掉缺失值超过0.85之后：\n"
     ]
    },
    {
     "data": {
      "text/plain": [
       "(1339, 249)"
      ]
     },
     "execution_count": 8,
     "metadata": {},
     "output_type": "execute_result"
    }
   ],
   "source": [
    "# 去掉太多缺失值的列\n",
    "print(\"\\nTop5 cols in missing values:\\n\")\n",
    "train.isna().sum().sort_values(ascending=False).head()\n",
    "\n",
    "print(\"\\n去掉缺失值之前：\")\n",
    "train.shape\n",
    "\n",
    "DROPNA_THRESH = 0.85  # 阈值选取 0.6\n",
    "dropna_values = pdp.DropNa(axis=1, thresh=DROPNA_THRESH*len(train))\n",
    "dropna_values += pdp.DropNa(axis=0, how='any')\n",
    "train = dropna_values(train, verbose=True)\n",
    "\n",
    "print(\"\\n去掉缺失值超过{}之后：\".format(DROPNA_THRESH))\n",
    "train.shape\n",
    "\n",
    "# # 填补缺失值\n",
    "\n",
    "# print(\"Fill na-values by mean for numeric cols, mode for others.\")\n",
    "# train.fillna(train.mode(), inplace=True)"
   ]
  },
  {
   "cell_type": "markdown",
   "metadata": {},
   "source": [
    "### 异常值处理"
   ]
  },
  {
   "cell_type": "markdown",
   "metadata": {},
   "source": [
    "不知道零值太多的需不需要处理，初次先不弄。\n",
    "\n",
    "一个异常值处理的流程案例：\n",
    "```\n",
    "pdp.RowDrop(conditions={'budget': lambda x: x <= 100000000,\n",
    "                        'genres': lambda x: 'Action' not in x,\n",
    "                        'release_date': lambda x: x == np.nan,\n",
    "                        'vote_count': lambda x: x <= 1000},\n",
    "           reduce='any').apply(data).shape[0]\n",
    "```"
   ]
  },
  {
   "cell_type": "code",
   "execution_count": 9,
   "metadata": {},
   "outputs": [
    {
     "name": "stdout",
     "output_type": "stream",
     "text": [
      "清洗后的数据\n"
     ]
    },
    {
     "data": {
      "text/html": [
       "<div>\n",
       "<style scoped>\n",
       "    .dataframe tbody tr th:only-of-type {\n",
       "        vertical-align: middle;\n",
       "    }\n",
       "\n",
       "    .dataframe tbody tr th {\n",
       "        vertical-align: top;\n",
       "    }\n",
       "\n",
       "    .dataframe thead th {\n",
       "        text-align: right;\n",
       "    }\n",
       "</style>\n",
       "<table border=\"1\" class=\"dataframe\">\n",
       "  <thead>\n",
       "    <tr style=\"text-align: right;\">\n",
       "      <th></th>\n",
       "      <th>Id</th>\n",
       "      <th>LotArea</th>\n",
       "      <th>MasVnrArea</th>\n",
       "      <th>ExterQual</th>\n",
       "      <th>ExterCond</th>\n",
       "      <th>BsmtQual</th>\n",
       "      <th>BsmtCond</th>\n",
       "      <th>BsmtExposure</th>\n",
       "      <th>BsmtFinType1</th>\n",
       "      <th>BsmtFinSF1</th>\n",
       "      <th>...</th>\n",
       "      <th>MasVnrType_BrkFace</th>\n",
       "      <th>MasVnrType_None</th>\n",
       "      <th>MasVnrType_Stone</th>\n",
       "      <th>Foundation_BrkTil</th>\n",
       "      <th>Foundation_CBlock</th>\n",
       "      <th>Foundation_PConc</th>\n",
       "      <th>Foundation_Slab</th>\n",
       "      <th>Foundation_Stone</th>\n",
       "      <th>Foundation_Wood</th>\n",
       "      <th>CentralAir_Y</th>\n",
       "    </tr>\n",
       "  </thead>\n",
       "  <tbody>\n",
       "    <tr>\n",
       "      <th>0</th>\n",
       "      <td>1</td>\n",
       "      <td>8450</td>\n",
       "      <td>196.0</td>\n",
       "      <td>4</td>\n",
       "      <td>3</td>\n",
       "      <td>4.0</td>\n",
       "      <td>3.0</td>\n",
       "      <td>1.0</td>\n",
       "      <td>6.0</td>\n",
       "      <td>706</td>\n",
       "      <td>...</td>\n",
       "      <td>1</td>\n",
       "      <td>0</td>\n",
       "      <td>0</td>\n",
       "      <td>0</td>\n",
       "      <td>0</td>\n",
       "      <td>1</td>\n",
       "      <td>0</td>\n",
       "      <td>0</td>\n",
       "      <td>0</td>\n",
       "      <td>1</td>\n",
       "    </tr>\n",
       "    <tr>\n",
       "      <th>1</th>\n",
       "      <td>2</td>\n",
       "      <td>9600</td>\n",
       "      <td>0.0</td>\n",
       "      <td>3</td>\n",
       "      <td>3</td>\n",
       "      <td>4.0</td>\n",
       "      <td>3.0</td>\n",
       "      <td>4.0</td>\n",
       "      <td>5.0</td>\n",
       "      <td>978</td>\n",
       "      <td>...</td>\n",
       "      <td>0</td>\n",
       "      <td>1</td>\n",
       "      <td>0</td>\n",
       "      <td>0</td>\n",
       "      <td>1</td>\n",
       "      <td>0</td>\n",
       "      <td>0</td>\n",
       "      <td>0</td>\n",
       "      <td>0</td>\n",
       "      <td>1</td>\n",
       "    </tr>\n",
       "    <tr>\n",
       "      <th>2</th>\n",
       "      <td>3</td>\n",
       "      <td>11250</td>\n",
       "      <td>162.0</td>\n",
       "      <td>4</td>\n",
       "      <td>3</td>\n",
       "      <td>4.0</td>\n",
       "      <td>3.0</td>\n",
       "      <td>2.0</td>\n",
       "      <td>6.0</td>\n",
       "      <td>486</td>\n",
       "      <td>...</td>\n",
       "      <td>1</td>\n",
       "      <td>0</td>\n",
       "      <td>0</td>\n",
       "      <td>0</td>\n",
       "      <td>0</td>\n",
       "      <td>1</td>\n",
       "      <td>0</td>\n",
       "      <td>0</td>\n",
       "      <td>0</td>\n",
       "      <td>1</td>\n",
       "    </tr>\n",
       "    <tr>\n",
       "      <th>3</th>\n",
       "      <td>4</td>\n",
       "      <td>9550</td>\n",
       "      <td>0.0</td>\n",
       "      <td>3</td>\n",
       "      <td>3</td>\n",
       "      <td>3.0</td>\n",
       "      <td>4.0</td>\n",
       "      <td>1.0</td>\n",
       "      <td>5.0</td>\n",
       "      <td>216</td>\n",
       "      <td>...</td>\n",
       "      <td>0</td>\n",
       "      <td>1</td>\n",
       "      <td>0</td>\n",
       "      <td>1</td>\n",
       "      <td>0</td>\n",
       "      <td>0</td>\n",
       "      <td>0</td>\n",
       "      <td>0</td>\n",
       "      <td>0</td>\n",
       "      <td>1</td>\n",
       "    </tr>\n",
       "    <tr>\n",
       "      <th>4</th>\n",
       "      <td>5</td>\n",
       "      <td>14260</td>\n",
       "      <td>350.0</td>\n",
       "      <td>4</td>\n",
       "      <td>3</td>\n",
       "      <td>4.0</td>\n",
       "      <td>3.0</td>\n",
       "      <td>3.0</td>\n",
       "      <td>6.0</td>\n",
       "      <td>655</td>\n",
       "      <td>...</td>\n",
       "      <td>1</td>\n",
       "      <td>0</td>\n",
       "      <td>0</td>\n",
       "      <td>0</td>\n",
       "      <td>0</td>\n",
       "      <td>1</td>\n",
       "      <td>0</td>\n",
       "      <td>0</td>\n",
       "      <td>0</td>\n",
       "      <td>1</td>\n",
       "    </tr>\n",
       "  </tbody>\n",
       "</table>\n",
       "<p>5 rows × 249 columns</p>\n",
       "</div>"
      ],
      "text/plain": [
       "   Id  LotArea  MasVnrArea  ExterQual  ExterCond  BsmtQual  BsmtCond  \\\n",
       "0   1     8450       196.0          4          3       4.0       3.0   \n",
       "1   2     9600         0.0          3          3       4.0       3.0   \n",
       "2   3    11250       162.0          4          3       4.0       3.0   \n",
       "3   4     9550         0.0          3          3       3.0       4.0   \n",
       "4   5    14260       350.0          4          3       4.0       3.0   \n",
       "\n",
       "   BsmtExposure  BsmtFinType1  BsmtFinSF1  ...  MasVnrType_BrkFace  \\\n",
       "0           1.0           6.0         706  ...                   1   \n",
       "1           4.0           5.0         978  ...                   0   \n",
       "2           2.0           6.0         486  ...                   1   \n",
       "3           1.0           5.0         216  ...                   0   \n",
       "4           3.0           6.0         655  ...                   1   \n",
       "\n",
       "   MasVnrType_None  MasVnrType_Stone  Foundation_BrkTil  Foundation_CBlock  \\\n",
       "0                0                 0                  0                  0   \n",
       "1                1                 0                  0                  1   \n",
       "2                0                 0                  0                  0   \n",
       "3                1                 0                  1                  0   \n",
       "4                0                 0                  0                  0   \n",
       "\n",
       "   Foundation_PConc  Foundation_Slab  Foundation_Stone  Foundation_Wood  \\\n",
       "0                 1                0                 0                0   \n",
       "1                 0                0                 0                0   \n",
       "2                 1                0                 0                0   \n",
       "3                 0                0                 0                0   \n",
       "4                 1                0                 0                0   \n",
       "\n",
       "   CentralAir_Y  \n",
       "0             1  \n",
       "1             1  \n",
       "2             1  \n",
       "3             1  \n",
       "4             1  \n",
       "\n",
       "[5 rows x 249 columns]"
      ]
     },
     "execution_count": 9,
     "metadata": {},
     "output_type": "execute_result"
    },
    {
     "data": {
      "text/plain": [
       "(1339, 249)"
      ]
     },
     "execution_count": 9,
     "metadata": {},
     "output_type": "execute_result"
    },
    {
     "data": {
      "text/plain": [
       "Index(['Id', 'LotArea', 'MasVnrArea', 'ExterQual', 'ExterCond', 'BsmtQual',\n",
       "       'BsmtCond', 'BsmtExposure', 'BsmtFinType1', 'BsmtFinSF1',\n",
       "       ...\n",
       "       'MasVnrType_BrkFace', 'MasVnrType_None', 'MasVnrType_Stone',\n",
       "       'Foundation_BrkTil', 'Foundation_CBlock', 'Foundation_PConc',\n",
       "       'Foundation_Slab', 'Foundation_Stone', 'Foundation_Wood',\n",
       "       'CentralAir_Y'],\n",
       "      dtype='object', length=249)"
      ]
     },
     "execution_count": 9,
     "metadata": {},
     "output_type": "execute_result"
    },
    {
     "data": {
      "text/plain": [
       "True"
      ]
     },
     "execution_count": 9,
     "metadata": {},
     "output_type": "execute_result"
    }
   ],
   "source": [
    "print(\"清洗后的数据\")\n",
    "train.head()\n",
    "train.shape\n",
    "train.columns\n",
    "'SalePrice' in train"
   ]
  },
  {
   "cell_type": "markdown",
   "metadata": {},
   "source": [
    "### 标准化"
   ]
  },
  {
   "cell_type": "code",
   "execution_count": 10,
   "metadata": {},
   "outputs": [
    {
     "name": "stdout",
     "output_type": "stream",
     "text": [
      "Applied scale for variable LotArea.\n",
      "Applied scale for variable MasVnrArea.\n",
      "Applied scale for variable BsmtFinSF1.\n",
      "Applied scale for variable BsmtFinSF2.\n",
      "Applied scale for variable BsmtUnfSF.\n",
      "Applied scale for variable TotalBsmtSF.\n",
      "Applied scale for variable 1stFlrSF.\n",
      "Applied scale for variable 2ndFlrSF.\n",
      "Applied scale for variable LowQualFinSF.\n",
      "Applied scale for variable GrLivArea.\n",
      "Applied scale for variable BsmtFullBath.\n",
      "Applied scale for variable BsmtHalfBath.\n",
      "Applied scale for variable FullBath.\n",
      "Applied scale for variable HalfBath.\n",
      "Applied scale for variable BedroomAbvGr.\n",
      "Applied scale for variable KitchenAbvGr.\n",
      "Applied scale for variable TotRmsAbvGrd.\n",
      "Applied scale for variable OpenPorchSF.\n",
      "Applied scale for variable EnclosedPorch.\n",
      "Applied scale for variable 3SsnPorch.\n",
      "Applied scale for variable ScreenPorch.\n",
      "Applied scale for variable Fireplaces.\n",
      "Applied scale for variable GarageArea.\n",
      "Applied scale for variable PoolArea.\n",
      "Applied scale for variable MiscVal.\n",
      "Applied scale for variable WoodDeckSF.\n"
     ]
    }
   ],
   "source": [
    "# 使用 sklearn：\n",
    "# from sklearn import preprocessing\n",
    "# preprocessing.scale()\n",
    "\n",
    "def scale(array):\n",
    "    a = array - array.mean()\n",
    "    b = array.max() - array.min()\n",
    "    return a/b\n",
    "\n",
    "datatypes = update_datatypes(train, datatypes)\n",
    "for col in datatypes['numeric']:\n",
    "    print(\"Applied scale for variable {}.\".format(col))\n",
    "    train[col] = scale(train[col])"
   ]
  },
  {
   "cell_type": "markdown",
   "metadata": {},
   "source": [
    "## 机器学习模型"
   ]
  },
  {
   "cell_type": "markdown",
   "metadata": {},
   "source": [
    "首先使用多元线性回归 + CV 交叉验证，看看学习曲线，随着迭代数量增加是否增加学习效率"
   ]
  },
  {
   "cell_type": "code",
   "execution_count": 13,
   "metadata": {},
   "outputs": [
    {
     "data": {
      "text/plain": [
       "[<matplotlib.lines.Line2D at 0x7fe47255b280>]"
      ]
     },
     "execution_count": 13,
     "metadata": {},
     "output_type": "execute_result"
    },
    {
     "data": {
      "text/plain": [
       "[<matplotlib.lines.Line2D at 0x7fe47255b6d0>]"
      ]
     },
     "execution_count": 13,
     "metadata": {},
     "output_type": "execute_result"
    },
    {
     "data": {
      "text/plain": [
       "<matplotlib.legend.Legend at 0x7fe47255b490>"
      ]
     },
     "execution_count": 13,
     "metadata": {},
     "output_type": "execute_result"
    },
    {
     "data": {
      "image/png": "[encoded data removed]",
      "text/plain": [
       "<Figure size 432x288 with 1 Axes>"
      ]
     },
     "metadata": {
      "needs_background": "light"
     },
     "output_type": "display_data"
    }
   ],
   "source": [
    "# 区分交叉验证和训练用\n",
    "from sklearn.model_selection import KFold, train_test_split\n",
    "from sklearn.linear_model import LinearRegression\n",
    "from sklearn.metrics import mean_squared_error\n",
    "\n",
    "features = list(train.columns)\n",
    "not_features = ['Id', 'SalePrice']\n",
    "not_features.extend(list(datatypes['datetime']))\n",
    "\n",
    "for i in not_features:\n",
    "    features.remove(i)\n",
    "predictor = ['SalePrice']\n",
    "\n",
    "# 学习曲线\n",
    "def get_min_rmse_prediction_in_cv(data):\n",
    "    cv = KFold(shuffle=True, random_state=1)\n",
    "    rmse_train, rmse_test = [], []\n",
    "    for k, (train_index, test_index) in enumerate(cv.split(data)):\n",
    "        X_train, y_train = train[features].iloc[train_index, :], train[predictor].iloc[train_index]\n",
    "        X_test, y_test = train[features].iloc[test_index], train[predictor].iloc[test_index]\n",
    "        lr = LinearRegression()\n",
    "        lr.fit(X_train, y_train)\n",
    "        train_prediction = lr.predict(X_train)\n",
    "        test_prediction = lr.predict(X_test)\n",
    "        rmse_train.append(np.sqrt(mean_squared_error(y_train, train_prediction)))\n",
    "        rmse_test.append(np.sqrt(mean_squared_error(y_test, test_prediction)))\n",
    "    return min(rmse_train), min(rmse_test)\n",
    "\n",
    "\n",
    "rmse_trains, rmse_tests = [], []\n",
    "samples_len = list(range(100, len(train), 100))\n",
    "for i in samples_len:\n",
    "    rmse_train, rmse_test = get_min_rmse_prediction_in_cv(train.iloc[:i])\n",
    "    rmse_tests.append(rmse_test)\n",
    "    rmse_trains.append(rmse_train)\n",
    "\n",
    "from matplotlib import pyplot as plt\n",
    "%matplotlib inline\n",
    "\n",
    "plt.plot(samples_len, rmse_trains, label='Train')\n",
    "plt.plot(samples_len, rmse_tests, label='Test')\n",
    "plt.legend()\n",
    "plt.xlabel(\"Size of dataset\")\n",
    "plt.ylabel(\"RMSE\")\n",
    "plt.show();"
   ]
  },
  {
   "cell_type": "code",
   "execution_count": null,
   "metadata": {},
   "outputs": [],
   "source": []
  }
 ],
 "metadata": {
  "kernelspec": {
   "display_name": "Python 3",
   "language": "python",
   "name": "python3"
  },
  "language_info": {
   "codemirror_mode": {
    "name": "ipython",
    "version": 3
   },
   "file_extension": ".py",
   "mimetype": "text/x-python",
   "name": "python",
   "nbconvert_exporter": "python",
   "pygments_lexer": "ipython3",
   "version": "3.8.3"
  }
 },
 "nbformat": 4,
 "nbformat_minor": 4
}
