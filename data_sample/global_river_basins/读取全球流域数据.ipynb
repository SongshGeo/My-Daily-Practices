{
 "cells": [
  {
   "cell_type": "markdown",
   "id": "3fb627d1",
   "metadata": {},
   "source": [
    "# 尝试读取全球流域数据"
   ]
  },
  {
   "cell_type": "markdown",
   "id": "78f8d78a",
   "metadata": {},
   "source": [
    "[数据来自全球流域-全球河流流量数据库](https://www.bafg.de/GRDC/EN/Home/homepage_node.html)\n",
    "\n",
    "这个数据库下载需要申请，邮件发给链接，然后使用，中国的数据不多。但是好处在有全球流域的矢量图。\n",
    "\n",
    "数据格式是：Geojson和nc"
   ]
  },
  {
   "cell_type": "code",
   "execution_count": 35,
   "id": "fb280d8d",
   "metadata": {},
   "outputs": [
    {
     "name": "stdout",
     "output_type": "stream",
     "text": [
      "已经读取文件GRDC-Monthly.nc，有以下变量：\n",
      "\n",
      "runoff_mean; (1428, 172), 含有以下属性：\n",
      "\t_FillValue\n",
      "\tunits\n",
      "\tlong_name\n",
      "\n",
      "flag; (1428, 172), 含有以下属性：\n",
      "\t_FillValue\n",
      "\tlong_name\n",
      "\n",
      "area; (172,), 含有以下属性：\n",
      "\tunits\n",
      "\tlong_name\n",
      "\n",
      "country; (172,), 含有以下属性：\n",
      "\tlong_name\n",
      "\tiso2\n",
      "\n",
      "geo_x; (172,), 含有以下属性：\n",
      "\tunits\n",
      "\tlong_name\n",
      "\n",
      "geo_y; (172,), 含有以下属性：\n",
      "\tunits\n",
      "\tlong_name\n",
      "\n",
      "geo_z; (172,), 含有以下属性：\n",
      "\tunits\n",
      "\tlong_name\n",
      "\n",
      "owneroforiginaldata; (172,), 含有以下属性：\n",
      "\tlong_name\n",
      "\n",
      "river_name; (172,), 含有以下属性：\n",
      "\tlong_name\n",
      "\n",
      "station_name; (172,), 含有以下属性：\n",
      "\tlong_name\n",
      "\n",
      "timezone; (172,), 含有以下属性：\n",
      "\tunits\n",
      "\tlong_name\n",
      "\n",
      "time; (1428,), 含有以下属性：\n",
      "\tlong_name\n",
      "\tunits\n",
      "\tcalendar\n",
      "\n",
      "id; (172,), 含有以下属性：\n",
      "\tlong_name\n"
     ]
    }
   ],
   "source": [
    "import numpy as np\n",
    "import netCDF4 as nc\n",
    "\n",
    "file_path = \"datasample/GRDC-Monthly.nc\"\n",
    "\n",
    "def read_nc_file(file_path):\n",
    "    # 读取的NC文件是一个文件对象\n",
    "    file = nc.Dataset(file_path)\n",
    "    print(\"已经读取文件{}，有以下变量：\".format(file_path.split(r\"/\")[-1]))\n",
    "    # 这个对象的变量是一个字典\n",
    "    for k in file.variables:\n",
    "        # 对每个变量获取属性\n",
    "        attributes = file.variables[k].ncattrs()\n",
    "        shape = file.variables[k].shape\n",
    "        # 查看变量的属性列表\n",
    "        print(\"\\n{}; {}, 含有以下属性：\".format(k, shape))\n",
    "        for attribute in attributes:\n",
    "            print(\"\\t{}\".format(attribute))\n",
    "    # 返回文件对象\n",
    "    \n",
    "    return file\n",
    "\n",
    "file = read_nc_file(file_path)"
   ]
  },
  {
   "cell_type": "markdown",
   "id": "f2e351d0",
   "metadata": {},
   "source": [
    "## 读取时间序列数据\n",
    "\n",
    "[主要参考了这个教程](https://blog.csdn.net/weixin_43646592/article/details/113427937)"
   ]
  },
  {
   "cell_type": "code",
   "execution_count": 40,
   "id": "896e248b",
   "metadata": {},
   "outputs": [
    {
     "data": {
      "text/plain": [
       "masked_array(data=[ 73352,  73382,  73413, ..., 116724, 116755, 116785],\n",
       "             mask=False,\n",
       "       fill_value=999999)"
      ]
     },
     "execution_count": 40,
     "metadata": {},
     "output_type": "execute_result"
    },
    {
     "data": {
      "text/plain": [
       "array([cftime.DatetimeGregorian(1900, 11, 1, 0, 0, 0, 0),\n",
       "       cftime.DatetimeGregorian(1900, 12, 1, 0, 0, 0, 0),\n",
       "       cftime.DatetimeGregorian(1901, 1, 1, 0, 0, 0, 0), ...,\n",
       "       cftime.DatetimeGregorian(2019, 8, 1, 0, 0, 0, 0),\n",
       "       cftime.DatetimeGregorian(2019, 9, 1, 0, 0, 0, 0),\n",
       "       cftime.DatetimeGregorian(2019, 10, 1, 0, 0, 0, 0)], dtype=object)"
      ]
     },
     "execution_count": 40,
     "metadata": {},
     "output_type": "execute_result"
    }
   ],
   "source": [
    "# 读取时间序列数据\n",
    "file.variables['time']\n",
    "file.variables['time'][:]\n",
    "nc.num2date(file.variables['time'][:], 'days since 1700-01-01 00:00').data"
   ]
  }
 ],
 "metadata": {
  "kernelspec": {
   "display_name": "Python 3",
   "language": "python",
   "name": "python3"
  },
  "language_info": {
   "codemirror_mode": {
    "name": "ipython",
    "version": 3
   },
   "file_extension": ".py",
   "mimetype": "text/x-python",
   "name": "python",
   "nbconvert_exporter": "python",
   "pygments_lexer": "ipython3",
   "version": "3.8.8"
  }
 },
 "nbformat": 4,
 "nbformat_minor": 5
}
