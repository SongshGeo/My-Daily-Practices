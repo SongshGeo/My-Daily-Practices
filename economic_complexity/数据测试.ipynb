{
 "cells": [
  {
   "cell_type": "markdown",
   "metadata": {},
   "source": [
    "# 复现中国虚拟水研究的结果"
   ]
  },
  {
   "cell_type": "code",
   "execution_count": 1,
   "metadata": {},
   "outputs": [],
   "source": [
    "import pandas as pd\n",
    "import numpy as np\n",
    "from matplotlib import pyplot as plt\n",
    "%matplotlib inline"
   ]
  },
  {
   "cell_type": "markdown",
   "metadata": {},
   "source": [
    "## 测试一下数据并理解"
   ]
  },
  {
   "cell_type": "markdown",
   "metadata": {},
   "source": [
    "**测试一下 2008 年的国内虚拟水贸易总额**"
   ]
  },
  {
   "cell_type": "code",
   "execution_count": 54,
   "metadata": {},
   "outputs": [
    {
     "data": {
      "text/plain": [
       "279.488872655585"
      ]
     },
     "execution_count": 54,
     "metadata": {},
     "output_type": "execute_result"
    },
    {
     "data": {
      "text/plain": [
       "280.32846206048464"
      ]
     },
     "execution_count": 54,
     "metadata": {},
     "output_type": "execute_result"
    },
    {
     "data": {
      "text/plain": [
       "207.76623550902843"
      ]
     },
     "execution_count": 54,
     "metadata": {},
     "output_type": "execute_result"
    },
    {
     "data": {
      "text/plain": [
       "-0.8395894048996332"
      ]
     },
     "execution_count": 54,
     "metadata": {},
     "output_type": "execute_result"
    }
   ],
   "source": [
    "total = pd.read_csv(r\"data/NVWI_Inter_Total.csv\")\n",
    "total_2008 = total.groupby(\"Year\").get_group(2008).iloc[:, 3:]\n",
    "total_2008[total_2008 > 0].sum().sum() / 1000\n",
    "total_2008[total_2008 < 0].abs().sum().sum() / 1000\n",
    "total_2008[total_2008 < 0].abs().iloc[:, :6].sum().sum() / 1000\n",
    "total_2008.sum().sum()/1000\n",
    "# plt.ylabel(\"Billion\")"
   ]
  },
  {
   "cell_type": "markdown",
   "metadata": {},
   "source": [
    "原来文章里用的 Virtual Water Flow 是所有谷物加起来的数值！！！终于搞明白了"
   ]
  },
  {
   "cell_type": "markdown",
   "metadata": {},
   "source": [
    "**测试一下 green + blue 是不是等于 total**"
   ]
  },
  {
   "cell_type": "code",
   "execution_count": 3,
   "metadata": {},
   "outputs": [],
   "source": [
    "green = pd.read_csv(r\"green_nvwi_inner.csv\")\n",
    "blue = pd.read_csv(r\"blue_nvwi_inner.csv\")\n",
    "\n",
    "green_2008 = green.groupby(\"Year\").get_group(2008).iloc[:, 3:]\n",
    "blue_2008 = blue.groupby(\"Year\").get_group(2008).iloc[:, 3:]"
   ]
  },
  {
   "cell_type": "code",
   "execution_count": 4,
   "metadata": {},
   "outputs": [
    {
     "data": {
      "text/plain": [
       "279.48887265558506"
      ]
     },
     "execution_count": 4,
     "metadata": {},
     "output_type": "execute_result"
    }
   ],
   "source": [
    "green_2008[green_2008 > 0].sum().sum() / 1000 + blue_2008[blue_2008 > 0].sum().sum() / 1000"
   ]
  },
  {
   "cell_type": "markdown",
   "metadata": {},
   "source": [
    "这说明 green + blue 和 total 是一样的"
   ]
  },
  {
   "cell_type": "markdown",
   "metadata": {},
   "source": [
    "**国内总的 WF 消耗量**"
   ]
  },
  {
   "cell_type": "code",
   "execution_count": 5,
   "metadata": {},
   "outputs": [
    {
     "data": {
      "text/plain": [
       "279.488872655585"
      ]
     },
     "execution_count": 5,
     "metadata": {},
     "output_type": "execute_result"
    },
    {
     "data": {
      "text/plain": [
       "559.8173347160697"
      ]
     },
     "execution_count": 5,
     "metadata": {},
     "output_type": "execute_result"
    }
   ],
   "source": [
    "wfc_total = pd.read_csv(r\"data/WFC_Total.csv\")\n",
    "\n",
    "wfc_total_2008 = total.groupby(\"Year\").get_group(2008).iloc[:, 3:]\n",
    "wfc_total_2008[wfc_total_2008 > 0].sum().sum() / 1000\n",
    "wfc_total_2008.abs().sum().sum()/1000"
   ]
  },
  {
   "cell_type": "markdown",
   "metadata": {},
   "source": [
    "**国内总的 WF 生产量**"
   ]
  },
  {
   "cell_type": "code",
   "execution_count": 8,
   "metadata": {},
   "outputs": [
    {
     "data": {
      "text/plain": [
       "279.488872655585"
      ]
     },
     "execution_count": 8,
     "metadata": {},
     "output_type": "execute_result"
    },
    {
     "data": {
      "text/plain": [
       "559.8173347160697"
      ]
     },
     "execution_count": 8,
     "metadata": {},
     "output_type": "execute_result"
    }
   ],
   "source": [
    "wf_total = pd.read_csv(r\"data/WF_Total.csv\")\n",
    "wf_total_2008 = total.groupby(\"Year\").get_group(2008).iloc[:, 3:]\n",
    "wf_total_2008[wf_total_2008 > 0].sum().sum() / 1000\n",
    "wf_total_2008.abs().sum().sum()/1000"
   ]
  },
  {
   "cell_type": "markdown",
   "metadata": {},
   "source": [
    "看来两者除了有没有贸易数据意外，没有任何区别"
   ]
  },
  {
   "cell_type": "markdown",
   "metadata": {},
   "source": [
    "## 一些基本统计分析"
   ]
  },
  {
   "cell_type": "markdown",
   "metadata": {},
   "source": [
    "**看看全国平均的粮食消费和表对得上不**"
   ]
  },
  {
   "cell_type": "code",
   "execution_count": 49,
   "metadata": {},
   "outputs": [
    {
     "data": {
      "text/plain": [
       "<matplotlib.axes._subplots.AxesSubplot at 0x7f85c12f0cd0>"
      ]
     },
     "execution_count": 49,
     "metadata": {},
     "output_type": "execute_result"
    },
    {
     "data": {
      "text/plain": [
       "(0.0, 700.0)"
      ]
     },
     "execution_count": 49,
     "metadata": {},
     "output_type": "execute_result"
    },
    {
     "data": {
      "text/plain": [
       "(1978.0, 2008.0)"
      ]
     },
     "execution_count": 49,
     "metadata": {},
     "output_type": "execute_result"
    },
    {
     "data": {
      "image/png": "[encoded data removed]",
      "text/plain": [
       "<Figure size 432x288 with 1 Axes>"
      ]
     },
     "metadata": {
      "needs_background": "light"
     },
     "output_type": "display_data"
    }
   ],
   "source": [
    "## 这一段是在测试 WFC 数据里有没有负值\n",
    "# for col in wfc_total:\n",
    "#     try:\n",
    "#         print(f\"Testing {col}\")\n",
    "#         if any(wfc_total[col] < 0):\n",
    "#             print(f\"There are neagtive values in col {col}.\")\n",
    "#         else:\n",
    "#             pass\n",
    "#     except:\n",
    "#         print(\"No\")\n",
    "\n",
    "test = wfc_total.groupby(\"Year\").sum().iloc[:, 1:7].abs().sum(axis=1).loc[1978: 2008]/1000\n",
    "test.plot()\n",
    "plt.ylim(0,700)\n",
    "plt.xlim(1978, 2008)"
   ]
  },
  {
   "cell_type": "markdown",
   "metadata": {},
   "source": [
    "可以看出，总的贸易量维持在0，所以国内总体来说出口与进口是相似的。\n",
    "\n",
    "单位是 $M m^3$ 即百万\n",
    "\n",
    "和 billion 相比以 1000 为单位换算"
   ]
  }
 ],
 "metadata": {
  "kernelspec": {
   "display_name": "Python 3",
   "language": "python",
   "name": "python3"
  },
  "language_info": {
   "codemirror_mode": {
    "name": "ipython",
    "version": 3
   },
   "file_extension": ".py",
   "mimetype": "text/x-python",
   "name": "python",
   "nbconvert_exporter": "python",
   "pygments_lexer": "ipython3",
   "version": "3.8.3"
  }
 },
 "nbformat": 4,
 "nbformat_minor": 4
}
