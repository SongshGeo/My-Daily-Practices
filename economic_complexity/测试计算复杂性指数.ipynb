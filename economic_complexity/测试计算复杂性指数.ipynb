{
 "cells": [
  {
   "cell_type": "markdown",
   "metadata": {},
   "source": [
    "# Test for Complexity calculating"
   ]
  },
  {
   "cell_type": "markdown",
   "metadata": {},
   "source": [
    "$$\n",
    "GENEPY_{i}=\\left(\\sum_{x=1}^{2} \\lambda_{i} X_{i, x}^{2}\\right)^{2}+2 \\sum_{x=1}^{2} \\lambda_{i}^{2} X_{i, x}^{2}\n",
    "$$\n",
    "\n",
    "where $X_{i, 1}$ and $X_{i, 2}$ are the eigenvectors of province $i$ corresponding to the first two largest eigenvalues $\\lambda_{1}$ and $\\lambda_{2}$ of the proximity matrix $N_{i i^{*}}$: \n",
    "\n",
    "$$\n",
    "\\left\\{\\begin{array}{ll}\n",
    "N_{i i^{*}}=\\sum_{j} M_{i j} M_{i^{*} j}=\\sum_{j} \\frac{M_{i j} M_{i^{*}j} }{k_{i} k_{i^{*}}\\left(k_{j}^{\\prime}\\right)^{2}}, & \\text { if } i \\neq i^{*} \\\\\n",
    "    N_{i i^{*}}=0, & \\text { if } i=i^{*}\n",
    "\\end{array}\\right.\n",
    "$$\n",
    "\n",
    "where $M$ is the input network matrix and the redundant information of the self-proximity (i.e., when $i=i^{*}$) is deleted by setting related values to zero. In addition, the symmetric square matrix $N$ is interpreted as the mathematical description of the weighted topology of the network, whose similarities between exported crops are the links. Then, eigenvector centrality of the nodes (refered by the eigenvectors of matrix $N$) can be a useful tool to interpret complexity of the network. In practical sense, two eigenvalues vectors $X_{i,1}$ and $X_{i,2}$ of each province $i$ can be combined into a unique metrics to distrill its ability in producing highly competitive crops. Higher GENEPY index indicates a potential superiority (VWF embedded are more accessible and irreplaceable) in the current VWF networks. For more details in math we refer the reader to [\"Reconciling contrasting views on economic complexity\" (2020) by Sciarra C.](https://www.nature.com/articles/s41467-020-16992-1)"
   ]
  },
  {
   "cell_type": "markdown",
   "metadata": {},
   "source": [
    "## READ ME FIRST\n",
    "---------------------------------------------------------------------------------------------\n",
    "from the original author Sciarra C.\n",
    "\n",
    "The files in this repository concern with the GENeralized Economic comPlexitY (GENEPY)\n",
    "index defined in \"Reconciling contrasting views on economic complexity\" (2020) by \n",
    "Sciarra C., Chiarotti G., Ridolfi L. & Laio F. \n",
    "\n",
    "The MATLAB code solves the function to compute the GENEPY index.\n",
    "The GENEPY index (GENerealized Economic comPlexitY index) constitutes of the first two\n",
    "eigenvectors of the proximity matrix P. For countries, the proximity matrix P is \n",
    "Ncc = Wcp*Wcp', while for products, the matrix is Gpp = Wcp'*Wcp, with Wcp = M_cp./k_c*k_p'.\n",
    "The matrix M is the incidence matrix of the binary countries-product bipartite network, \n",
    "kc the degree of countries and kp'=sum(Mcp/kc). \n",
    "The function allows to choose the group for which to perform the computation, either \n",
    "countries or products and returns the values of the first two eigenvectors of the \n",
    "proximity matrix and the resulting GENEPY index.\n",
    "\n",
    "The excel file contains the results of the GENEPY index for countries shown in the main\n",
    "article during the period 1995 - 2017.\n",
    "\n",
    "For further requests contact: carla.sciarra@polito.it\n",
    "\n",
    "---------------------------------------------------------------------------------------------\n",
    "\n",
    "June 2020"
   ]
  },
  {
   "cell_type": "markdown",
   "metadata": {},
   "source": [
    "## My implementation through Python"
   ]
  },
  {
   "cell_type": "markdown",
   "metadata": {},
   "source": [
    "### Create test network matrix data (0-1)"
   ]
  },
  {
   "cell_type": "code",
   "execution_count": 1,
   "metadata": {},
   "outputs": [],
   "source": [
    "import numpy as np\n",
    "import pandas as pd"
   ]
  },
  {
   "cell_type": "code",
   "execution_count": 2,
   "metadata": {},
   "outputs": [
    {
     "data": {
      "text/plain": [
       "array([[1, 1, 0, 0, 1, 1, 1, 1, 1, 0],\n",
       "       [0, 1, 0, 1, 1, 0, 0, 1, 0, 0],\n",
       "       [0, 1, 0, 0, 1, 0, 0, 0, 1, 0],\n",
       "       [0, 0, 1, 1, 1, 1, 1, 0, 0, 0],\n",
       "       [1, 1, 1, 1, 1, 1, 0, 1, 1, 0],\n",
       "       [0, 1, 0, 0, 1, 1, 1, 0, 1, 0],\n",
       "       [0, 1, 1, 0, 1, 1, 1, 1, 0, 0],\n",
       "       [1, 1, 0, 0, 0, 0, 1, 1, 1, 0],\n",
       "       [1, 0, 0, 1, 1, 0, 1, 1, 0, 1],\n",
       "       [0, 0, 1, 1, 1, 0, 1, 1, 0, 1]])"
      ]
     },
     "execution_count": 2,
     "metadata": {},
     "output_type": "execute_result"
    }
   ],
   "source": [
    "np.random.seed(1)  # random seed for same test matrix\n",
    "matrix = np.random.randint(2, size=100).reshape(10, 10)  # matrix\n",
    "matrix\n",
    "\n",
    "pd.DataFrame(matrix).to_csv(\"test_data.csv\", header=False, index=False)"
   ]
  },
  {
   "cell_type": "markdown",
   "metadata": {},
   "source": [
    "### Results from Matlab source code:"
   ]
  },
  {
   "cell_type": "markdown",
   "metadata": {},
   "source": [
    "### Source matlab Code from Sciarra C.\n",
    "\n",
    "% compute proximity matrix P\n",
    "if strcmp(group,'countries')\n",
    "    P=W*W'; % P equals Ncc = Wcp*Wcp'\n",
    "elseif strcmp(group,'products')\n",
    "    P=W'*W; % P equals Gpp = Wcp'*Wcp\n",
    "end\n",
    "% set diagonal to zero \n",
    "P(eye(size(P))~=0)=0;  \n",
    "% compute eigenvectors and eigenvalues of the matrix P\n",
    "\n",
    "evalues=eig(P);      \n",
    "[evectors,~]=eig(P); \n",
    "\n",
    "% sort absolute eigenvalues in descending order\n",
    "[~,order_eig]=sort(evalues,'descend','ComparisonMethod','abs');\n",
    "\n",
    "% re-order eigenvalues and eigenvectors accordingly\n",
    "evalues=evalues(order_eig);\n",
    "evectors=evectors(:,order_eig);\n",
    "clear order_eig\n",
    "\n",
    "% Eigenvectors are define up to multiplication by constant values.\n",
    "% The Perron-Frobenius Th ensures the eigenvector corresponding to the\n",
    "% largest eigenvalues to be positive. Computation can include this constant\n",
    "% as a minus sign. Take the absolute value of the first eigenvector.\n",
    "\n",
    "E1=abs(evectors(:,1));  % first eigenvector  (X1 for countries, Y1 for products)\n",
    "E2=evectors(:,2);       % second eigenvector (X2 for countries, Y2 for products)\n",
    "\n",
    "%% Compute GENEPY index using unique contribution\n",
    "% use linear algebra to compact GENEPY formula\n",
    "\n",
    "E=[E1 E2];                      % matrix of first two eigenvectors E1 and E2\n",
    "lambda=[evalues(1) evalues(2)]; % vector of first two eigenvalues\n",
    "GENEPY=(((E(:,:).^2))*lambda(:)).^2+2.*((E(:,:).^2))*(lambda(:).^2);"
   ]
  },
  {
   "cell_type": "markdown",
   "metadata": {},
   "source": [
    "if countries:\n",
    "ans =\n",
    "\n",
    "    0.3151\n",
    "    0.2586\n",
    "    0.2137\n",
    "    0.3281\n",
    "    0.3548\n",
    "    0.2681\n",
    "    0.3107\n",
    "    0.3033\n",
    "    0.3835\n",
    "    0.3836"
   ]
  },
  {
   "cell_type": "markdown",
   "metadata": {},
   "source": [
    "### Results from Python script"
   ]
  },
  {
   "cell_type": "code",
   "execution_count": 3,
   "metadata": {},
   "outputs": [
    {
     "data": {
      "text/plain": [
       "array([[0.13419418],\n",
       "       [0.087502  ],\n",
       "       [0.05980403],\n",
       "       [0.14727654],\n",
       "       [0.16935552],\n",
       "       [0.09425776],\n",
       "       [0.13086278],\n",
       "       [0.12617786],\n",
       "       [0.30526539],\n",
       "       [0.3081895 ]])"
      ]
     },
     "execution_count": 3,
     "metadata": {},
     "output_type": "execute_result"
    }
   ],
   "source": [
    "from genepy_index import genepy_index\n",
    "\n",
    "genepy_index(matrix)[1]"
   ]
  }
 ],
 "metadata": {
  "kernelspec": {
   "display_name": "Python 3",
   "language": "python",
   "name": "python3"
  },
  "language_info": {
   "codemirror_mode": {
    "name": "ipython",
    "version": 3
   },
   "file_extension": ".py",
   "mimetype": "text/x-python",
   "name": "python",
   "nbconvert_exporter": "python",
   "pygments_lexer": "ipython3",
   "version": "3.8.8"
  }
 },
 "nbformat": 4,
 "nbformat_minor": 4
}
